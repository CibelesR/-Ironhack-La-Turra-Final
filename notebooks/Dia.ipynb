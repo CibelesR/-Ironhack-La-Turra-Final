{
 "cells": [
  {
   "cell_type": "markdown",
   "metadata": {},
   "source": [
    "# Web Scraping\n",
    "\n",
    "#### La información obtenida de Open Food Facts será completada con la información real de Abril de 2020 sobre precios de estos mismos alimentos.\n"
   ]
  },
  {
   "cell_type": "code",
   "execution_count": 12,
   "metadata": {},
   "outputs": [],
   "source": [
    "import requests\n",
    "import pandas as pd\n",
    "from bs4 import BeautifulSoup\n",
    "from lxml import html\n",
    "import re\n",
    "import numpy as np\n",
    "import datetime"
   ]
  },
  {
   "cell_type": "markdown",
   "metadata": {},
   "source": [
    "Me traigo la lista de códigos de barras del df original (por diversos problemas)"
   ]
  },
  {
   "cell_type": "code",
   "execution_count": 53,
   "metadata": {},
   "outputs": [
    {
     "name": "stderr",
     "output_type": "stream",
     "text": [
      "IOPub data rate exceeded.\n",
      "The notebook server will temporarily stop sending output\n",
      "to the client in order to avoid crashing it.\n",
      "To change this limit, set the config variable\n",
      "`--NotebookApp.iopub_data_rate_limit`.\n",
      "\n",
      "Current values:\n",
      "NotebookApp.iopub_data_rate_limit=1000000.0 (bytes/sec)\n",
      "NotebookApp.rate_limit_window=3.0 (secs)\n",
      "\n"
     ]
    }
   ],
   "source": [
    "df = pd.read_csv('/Users/Natalio/Desktop/Cibeles/Ironhack/Proyecto_Final/Recursos/en.openfoodfacts.org.products.csv', sep='\\t')\n",
    "codes = df['code'].to_list()\n",
    "barcodes = [i for i in codes if len(str(i)) == 13]\n",
    "len(codebar)\n"
   ]
  },
  {
   "cell_type": "code",
   "execution_count": 57,
   "metadata": {},
   "outputs": [
    {
     "name": "stdout",
     "output_type": "stream",
     "text": [
      "['0000000000208', '0000000000284', '0000000000291', '0000000000949', '0000000000970']\n"
     ]
    }
   ],
   "source": [
    "print(barcodes[5:10])"
   ]
  },
  {
   "cell_type": "code",
   "execution_count": null,
   "metadata": {},
   "outputs": [],
   "source": [
    "dfscraping = pd.DataFrame"
   ]
  },
  {
   "cell_type": "code",
   "execution_count": 42,
   "metadata": {},
   "outputs": [
    {
     "name": "stdout",
     "output_type": "stream",
     "text": [
      "<zip object at 0x11f218640>\n"
     ]
    }
   ],
   "source": [
    "def scrapinginfo (barcode):\n",
    "    url = 'https://www.dia.es/compra-online/search?text=' + barcode + '&x=0&y=0'\n",
    "    html = requests.get(url).content\n",
    "    bs = BeautifulSoup(html, 'lxml')\n",
    "    searching = bs.find_all('p', {'class':'price'})\n",
    "    price = [re.findall('.*(\\d+\\,\\d+)\\s\\€', str(searching))[0]]\n",
    "    result = zip(price, barcode)\n",
    "    #results = list(result)\n",
    "    print(result)\n",
    "\n",
    "scrapinginfo(str(5449000000996))"
   ]
  },
  {
   "cell_type": "code",
   "execution_count": 8,
   "metadata": {},
   "outputs": [
    {
     "data": {
      "text/plain": [
       "bs4.element.ResultSet"
      ]
     },
     "execution_count": 8,
     "metadata": {},
     "output_type": "execute_result"
    }
   ],
   "source": [
    "table = bs.find_all('p', {'class':'price'})\n",
    "type(table)"
   ]
  },
  {
   "cell_type": "code",
   "execution_count": 7,
   "metadata": {},
   "outputs": [
    {
     "data": {
      "text/plain": [
       "map"
      ]
     },
     "execution_count": 7,
     "metadata": {},
     "output_type": "execute_result"
    }
   ],
   "source": [
    "#table = map(str, table)\n",
    "#type(table)"
   ]
  },
  {
   "cell_type": "code",
   "execution_count": 30,
   "metadata": {},
   "outputs": [
    {
     "data": {
      "text/plain": [
       "list"
      ]
     },
     "execution_count": 30,
     "metadata": {},
     "output_type": "execute_result"
    }
   ],
   "source": [
    "\n",
    "hola\n",
    "type(hola)"
   ]
  },
  {
   "cell_type": "code",
   "execution_count": 31,
   "metadata": {},
   "outputs": [
    {
     "data": {
      "text/plain": [
       "['0,65']"
      ]
     },
     "execution_count": 31,
     "metadata": {},
     "output_type": "execute_result"
    }
   ],
   "source": [
    "hola"
   ]
  },
  {
   "cell_type": "code",
   "execution_count": 35,
   "metadata": {},
   "outputs": [
    {
     "data": {
      "text/plain": [
       "list"
      ]
     },
     "execution_count": 35,
     "metadata": {},
     "output_type": "execute_result"
    }
   ],
   "source": [
    "#javi = [re.findall('.*(\\d+\\,\\d+)\\s\\€', e.text) for e in table]\n",
    "#type(javi)"
   ]
  },
  {
   "cell_type": "code",
   "execution_count": 36,
   "metadata": {},
   "outputs": [
    {
     "data": {
      "text/plain": [
       "[['0,65']]"
      ]
     },
     "execution_count": 36,
     "metadata": {},
     "output_type": "execute_result"
    }
   ],
   "source": [
    "#javi"
   ]
  },
  {
   "cell_type": "code",
   "execution_count": 28,
   "metadata": {},
   "outputs": [
    {
     "data": {
      "text/plain": [
       "'0,65;5449000000996'"
      ]
     },
     "execution_count": 28,
     "metadata": {},
     "output_type": "execute_result"
    }
   ],
   "source": [
    "# zip map\n",
    "url = '5449000000996'\n",
    "price = hola + ';' + url\n",
    "price"
   ]
  },
  {
   "cell_type": "code",
   "execution_count": 29,
   "metadata": {},
   "outputs": [
    {
     "ename": "ValueError",
     "evalue": "DataFrame constructor not properly called!",
     "output_type": "error",
     "traceback": [
      "\u001b[0;31m---------------------------------------------------------------------------\u001b[0m",
      "\u001b[0;31mValueError\u001b[0m                                Traceback (most recent call last)",
      "\u001b[0;32m<ipython-input-29-c58c56289deb>\u001b[0m in \u001b[0;36m<module>\u001b[0;34m\u001b[0m\n\u001b[0;32m----> 1\u001b[0;31m \u001b[0mdf\u001b[0m \u001b[0;34m=\u001b[0m \u001b[0mpd\u001b[0m\u001b[0;34m.\u001b[0m\u001b[0mDataFrame\u001b[0m\u001b[0;34m(\u001b[0m\u001b[0mprice\u001b[0m\u001b[0;34m,\u001b[0m \u001b[0mcolumns\u001b[0m \u001b[0;34m=\u001b[0m \u001b[0;34m[\u001b[0m\u001b[0;34m'price'\u001b[0m\u001b[0;34m,\u001b[0m \u001b[0;34m'code'\u001b[0m\u001b[0;34m]\u001b[0m\u001b[0;34m)\u001b[0m\u001b[0;34m\u001b[0m\u001b[0;34m\u001b[0m\u001b[0m\n\u001b[0m\u001b[1;32m      2\u001b[0m \u001b[0mdf\u001b[0m\u001b[0;34m\u001b[0m\u001b[0;34m\u001b[0m\u001b[0m\n",
      "\u001b[0;32m~/miniconda3/envs/pfironhack_env/lib/python3.7/site-packages/pandas/core/frame.py\u001b[0m in \u001b[0;36m__init__\u001b[0;34m(self, data, index, columns, dtype, copy)\u001b[0m\n\u001b[1;32m    507\u001b[0m                 )\n\u001b[1;32m    508\u001b[0m             \u001b[0;32melse\u001b[0m\u001b[0;34m:\u001b[0m\u001b[0;34m\u001b[0m\u001b[0;34m\u001b[0m\u001b[0m\n\u001b[0;32m--> 509\u001b[0;31m                 \u001b[0;32mraise\u001b[0m \u001b[0mValueError\u001b[0m\u001b[0;34m(\u001b[0m\u001b[0;34m\"DataFrame constructor not properly called!\"\u001b[0m\u001b[0;34m)\u001b[0m\u001b[0;34m\u001b[0m\u001b[0;34m\u001b[0m\u001b[0m\n\u001b[0m\u001b[1;32m    510\u001b[0m \u001b[0;34m\u001b[0m\u001b[0m\n\u001b[1;32m    511\u001b[0m         \u001b[0mNDFrame\u001b[0m\u001b[0;34m.\u001b[0m\u001b[0m__init__\u001b[0m\u001b[0;34m(\u001b[0m\u001b[0mself\u001b[0m\u001b[0;34m,\u001b[0m \u001b[0mmgr\u001b[0m\u001b[0;34m,\u001b[0m \u001b[0mfastpath\u001b[0m\u001b[0;34m=\u001b[0m\u001b[0;32mTrue\u001b[0m\u001b[0;34m)\u001b[0m\u001b[0;34m\u001b[0m\u001b[0;34m\u001b[0m\u001b[0m\n",
      "\u001b[0;31mValueError\u001b[0m: DataFrame constructor not properly called!"
     ]
    }
   ],
   "source": [
    "df = pd.DataFrame(price, columns = ['price', 'code'])\n",
    "df"
   ]
  },
  {
   "cell_type": "markdown",
   "metadata": {},
   "source": [
    "Nuevas pruebas para verificar el correcto funcionamiento"
   ]
  },
  {
   "cell_type": "code",
   "execution_count": 85,
   "metadata": {},
   "outputs": [
    {
     "name": "stdout",
     "output_type": "stream",
     "text": [
      "['0,65', '1,09', 'no data']\n",
      "['1,97', '0,00', 'no data']\n"
     ]
    },
    {
     "data": {
      "text/html": [
       "<div>\n",
       "<style scoped>\n",
       "    .dataframe tbody tr th:only-of-type {\n",
       "        vertical-align: middle;\n",
       "    }\n",
       "\n",
       "    .dataframe tbody tr th {\n",
       "        vertical-align: top;\n",
       "    }\n",
       "\n",
       "    .dataframe thead th {\n",
       "        text-align: right;\n",
       "    }\n",
       "</style>\n",
       "<table border=\"1\" class=\"dataframe\">\n",
       "  <thead>\n",
       "    <tr style=\"text-align: right;\">\n",
       "      <th></th>\n",
       "      <th>barcode</th>\n",
       "      <th>price</th>\n",
       "      <th>pricekg</th>\n",
       "    </tr>\n",
       "  </thead>\n",
       "  <tbody>\n",
       "    <tr>\n",
       "      <th>0</th>\n",
       "      <td>5449000000996</td>\n",
       "      <td>0,65</td>\n",
       "      <td>1,97</td>\n",
       "    </tr>\n",
       "    <tr>\n",
       "      <th>1</th>\n",
       "      <td>0</td>\n",
       "      <td>1,09</td>\n",
       "      <td>0,00</td>\n",
       "    </tr>\n",
       "    <tr>\n",
       "      <th>2</th>\n",
       "      <td>0000000000208</td>\n",
       "      <td>no data</td>\n",
       "      <td>no data</td>\n",
       "    </tr>\n",
       "  </tbody>\n",
       "</table>\n",
       "</div>"
      ],
      "text/plain": [
       "         barcode    price  pricekg\n",
       "0  5449000000996     0,65     1,97\n",
       "1              0     1,09     0,00\n",
       "2  0000000000208  no data  no data"
      ]
     },
     "execution_count": 85,
     "metadata": {},
     "output_type": "execute_result"
    }
   ],
   "source": [
    "barcodes = ['5449000000996','0','0000000000208']\n",
    "dfprice = []\n",
    "dfpricekg = []\n",
    "for barcode in barcodes:\n",
    "    url = 'https://www.dia.es/compra-online/search?text=' + barcode + '&x=0&y=0'\n",
    "    html = requests.get(url).content\n",
    "    bs = BeautifulSoup(html, 'lxml')\n",
    "\n",
    "    try:\n",
    "        searchingprice = bs.find_all('p', {'class':'price'})\n",
    "        price = str(re.findall('.*(\\d+\\,\\d+)\\s\\€', str(searchingprice))[0])\n",
    "        dfprice.append(price)\n",
    "\n",
    "        searchingpricerperkg = bs.find_all('p', {'class':'pricePerKilogram'})\n",
    "        pricekg = str(re.findall('.*(\\d+\\,\\d+)\\s\\€', str(searchingpricerperkg))[0])\n",
    "        dfpricekg.append(pricekg)\n",
    "    \n",
    "    except:\n",
    "        dfprice.append('no data')\n",
    "        dfpricekg.append('no data')\n",
    "        \n",
    "\n",
    "print(dfprice)\n",
    "print(dfpricekg)\n",
    "result = list(zip(barcodes, dfprice, dfpricekg))\n",
    "\n",
    "\n",
    "df = pd.DataFrame(result, columns = ['barcode','price','pricekg'])\n",
    "\n",
    "df"
   ]
  },
  {
   "cell_type": "markdown",
   "metadata": {},
   "source": [
    "### Código final"
   ]
  },
  {
   "cell_type": "code",
   "execution_count": 3,
   "metadata": {},
   "outputs": [
    {
     "name": "stderr",
     "output_type": "stream",
     "text": [
      "/Users/Natalio/miniconda3/envs/pfironhack_env/lib/python3.7/site-packages/IPython/core/interactiveshell.py:3063: DtypeWarning: Columns (0,24,25,26,28,44,49) have mixed types.Specify dtype option on import or set low_memory=False.\n",
      "  interactivity=interactivity, compiler=compiler, result=result)\n"
     ]
    }
   ],
   "source": [
    "df = pd.read_csv('/Users/Natalio/Desktop/Cibeles/Ironhack/Proyecto_Final/Recursos/en.openfoodfacts.org.products.csv', sep='\\t')\n",
    "codes = df['code'].to_list()\n",
    "barcodes = [i for i in codes if len(str(i)) == 13]"
   ]
  },
  {
   "cell_type": "markdown",
   "metadata": {},
   "source": [
    "For problems with the result, I will divide the original list into n parts "
   ]
  },
  {
   "cell_type": "code",
   "execution_count": 10,
   "metadata": {},
   "outputs": [
    {
     "data": {
      "text/plain": [
       "array(['0000000000017', '0000000000031', '0000000000100', ...,\n",
       "       '2276455020865', '2276455023224', '2276455023552'], dtype='<U13')"
      ]
     },
     "execution_count": 10,
     "metadata": {},
     "output_type": "execute_result"
    }
   ],
   "source": [
    "bc1 = np.array_split(barcodes,10)[0]\n",
    "bc1"
   ]
  },
  {
   "cell_type": "code",
   "execution_count": null,
   "metadata": {},
   "outputs": [
    {
     "name": "stdout",
     "output_type": "stream",
     "text": [
      "2020-04-17 17:03:29.428857\n"
     ]
    }
   ],
   "source": [
    "starttime = datetime.datetime.now()\n",
    "print(starttime)\n",
    "dfprice = []\n",
    "dfpricekg = []\n",
    "for barcode in barcodes:\n",
    "    try:\n",
    "        url = 'https://www.dia.es/compra-online/search?text=' + str(barcode) + '&x=0&y=0'\n",
    "        html = requests.get(url).content\n",
    "        bs = BeautifulSoup(html, 'lxml')\n",
    "\n",
    "        try:\n",
    "            searchingprice = bs.find_all('p', {'class':'price'})\n",
    "            price = str(re.findall('.*(\\d+\\,\\d+)\\s\\€', str(searchingprice))[0])\n",
    "            dfprice.append(price)\n",
    "\n",
    "            searchingpricerperkg = bs.find_all('p', {'class':'pricePerKilogram'})\n",
    "            pricekg = str(re.findall('.*(\\d+\\,\\d+)\\s\\€', str(searchingpricerperkg))[0])\n",
    "            dfpricekg.append(pricekg)\n",
    "    \n",
    "        except:\n",
    "            pass\n",
    "        \n",
    "    except:\n",
    "        pass\n",
    "        \n",
    "result = list(zip(barcodes, dfprice, dfpricekg))\n",
    "\n",
    "df = pd.DataFrame(result, columns = ['code','price_dia','pricekg_dia'])\n",
    "df.to_csv('/Users/Natalio/Desktop/Cibeles/Ironhack/Proyecto_Final/Recursos/dia.csv', sep='\\t')\n",
    "endtime = datetime.datetime.now()\n",
    "duration = endtime - starttime\n",
    "print(f'El proceso finaliza {endtime}.\\n La duración total es: {duration}')\n"
   ]
  },
  {
   "cell_type": "code",
   "execution_count": null,
   "metadata": {},
   "outputs": [],
   "source": [
    "def scrapinginfo(barcodes):\n",
    "    dfprice = []\n",
    "    dfpricekg = []\n",
    "    for barcode in barcodes:\n",
    "        url = 'https://www.dia.es/compra-online/search?text=' + barcode + '&x=0&y=0'\n",
    "        html = requests.get(url).content\n",
    "        bs = BeautifulSoup(html, 'lxml')\n",
    "\n",
    "        try:\n",
    "            searchingprice = bs.find_all('p', {'class':'price'})\n",
    "            price = str(re.findall('.*(\\d+\\,\\d+)\\s\\€', str(searchingprice))[0])\n",
    "            dfprice.append(price)\n",
    "\n",
    "            searchingpricerperkg = bs.find_all('p', {'class':'pricePerKilogram'})\n",
    "            pricekg = str(re.findall('.*(\\d+\\,\\d+)\\s\\€', str(searchingpricerperkg))[0])\n",
    "            dfpricekg.append(pricekg)\n",
    "    \n",
    "        except:\n",
    "            pass\n",
    "        \n",
    "    result = list(zip(barcodes, dfprice, dfpricekg))\n",
    "\n",
    "    df = pd.DataFrame(result, columns = ['code','price','pricekg'])\n",
    "    df.to_csv('/Users/Natalio/Desktop/Cibeles/Ironhack/Proyecto_Final/Recursos/bc1.csv', sep='\\t')\n",
    "\n",
    "    return df\n",
    "\n",
    "scrapinginfo(bc1)"
   ]
  }
 ],
 "metadata": {
  "kernelspec": {
   "display_name": "Python [conda env:pfironhack_env] *",
   "language": "python",
   "name": "conda-env-pfironhack_env-py"
  }
 },
 "nbformat": 4,
 "nbformat_minor": 4
}
