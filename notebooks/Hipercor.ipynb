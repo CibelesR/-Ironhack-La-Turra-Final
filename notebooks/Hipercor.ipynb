{
 "cells": [
  {
   "cell_type": "markdown",
   "metadata": {},
   "source": [
    "# Hipercor\n",
    "\n",
    "#### Carrefour no da resultados, así que necesitamos un plan H\n"
   ]
  },
  {
   "cell_type": "code",
   "execution_count": 1,
   "metadata": {},
   "outputs": [],
   "source": [
    "import requests\n",
    "import pandas as pd\n",
    "from bs4 import BeautifulSoup\n",
    "from lxml import html\n",
    "import re"
   ]
  },
  {
   "cell_type": "markdown",
   "metadata": {},
   "source": [
    "Repetimos el proceso del scraping de día para carrefour"
   ]
  },
  {
   "cell_type": "code",
   "execution_count": 2,
   "metadata": {},
   "outputs": [
    {
     "name": "stderr",
     "output_type": "stream",
     "text": [
      "/Users/Natalio/miniconda3/envs/pfironhack_env/lib/python3.7/site-packages/IPython/core/interactiveshell.py:3063: DtypeWarning: Columns (0,24,25,26,28,44,49) have mixed types.Specify dtype option on import or set low_memory=False.\n",
      "  interactivity=interactivity, compiler=compiler, result=result)\n"
     ]
    }
   ],
   "source": [
    "df = pd.read_csv('/Users/Natalio/Desktop/Cibeles/Ironhack/Proyecto_Final/Recursos/en.openfoodfacts.org.products.csv', sep='\\t')\n",
    "codes = df['code'].to_list()\n",
    "barcodes = [i for i in codes if len(str(i)) == 13]"
   ]
  },
  {
   "cell_type": "code",
   "execution_count": 23,
   "metadata": {},
   "outputs": [
    {
     "name": "stdout",
     "output_type": "stream",
     "text": [
      "['2,09']\n",
      "<class 'str'>\n",
      "['4,64']\n"
     ]
    }
   ],
   "source": [
    "engine = create_engine('sqlite:///foodprices_hipercor.db')"
   ]
  },
  {
   "cell_type": "code",
   "execution_count": null,
   "metadata": {},
   "outputs": [],
   "source": [
    "starttime = datetime.datetime.now()\n",
    "print(starttime)\n",
    "count = 0\n",
    "for barcode in barcodes:\n",
    "    count += 1\n",
    "    print(f'Scraping barcode: {barcode} ------------------------------------------------ Scrapeo número: {count} ')\n",
    "    #if barcode in sql:\n",
    "    try:\n",
    "        url = 'https://www.hipercor.es/supermercado/buscar/?term=' + barcode\n",
    "        html = requests.get(url).content\n",
    "        bs = BeautifulSoup(html, 'lxml')\n",
    "        print('Recovering HTML')\n",
    "\n",
    "        try:\n",
    "            searchingprice = bs.find_all('div', {'class':'prices-price _current'})\n",
    "            price = str(re.findall('.+(\\d+.+\\,.+\\d+).+\\€', str(searchingprice))[0])\n",
    "            price = price.replace('</span>', '').replace('<span>', '')\n",
    "            \n",
    "            searchingpricerperkg = bs.find_all('div', {'class':'prices-price _pum'})\n",
    "            pricekg = str(re.findall('.*(\\d+\\,\\d+)\\s\\€', str(searchingpricerperkg))[0])\n",
    "    \n",
    "        except:\n",
    "            print('Could not find the codebar')\n",
    "            price = ['null']\n",
    "            pricekg = ['null']\n",
    "\n",
    "        finally:    \n",
    "            result = list(zip([barcode], price, pricekg))\n",
    "            df = pd.DataFrame(result, columns = ['code','price_hipercor','pricekg_hipercor'])\n",
    "            df.to_sql('foodprices_hipercor', engine, if_exists = 'append', index=False)\n",
    "        \n",
    "        \n",
    "    except:\n",
    "        print('Coult not find the HTML request')\n",
    "        pass\n",
    "        \n",
    "    \n",
    "endtime = datetime.datetime.now()\n",
    "duration = endtime - starttime\n",
    "print(f'El proceso finaliza {endtime}.\\nLa duración total es: {duration}')\n"
   ]
  }
 ],
 "metadata": {
  "kernelspec": {
   "display_name": "Python [conda env:pfironhack_env] *",
   "language": "python",
   "name": "conda-env-pfironhack_env-py"
  },
  "language_info": {
   "codemirror_mode": {
    "name": "ipython",
    "version": 3
   },
   "file_extension": ".py",
   "mimetype": "text/x-python",
   "name": "python",
   "nbconvert_exporter": "python",
   "pygments_lexer": "ipython3",
   "version": "3.7.7"
  }
 },
 "nbformat": 4,
 "nbformat_minor": 4
}
