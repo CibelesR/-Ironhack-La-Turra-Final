{
 "cells": [
  {
   "cell_type": "markdown",
   "metadata": {},
   "source": [
    "# Proyecto Final Ironhack: Análisis del precio de los alimentos\n",
    "\n",
    "#### Los inputs de datos son cambiados de la conexión a la API por un CSV. Esto es debido a que la API está pensada par alas aplicaciones móviles y funcionan devolviendo la información de un producto por escaneo. No es útil para el trabajo que vamos a desempeñar, puesto que necesitamos partir de todos los datos. Para ello es más lógico la utilización de un archivo en formato .csv con toda la información disponible."
   ]
  },
  {
   "cell_type": "code",
   "execution_count": 1,
   "metadata": {},
   "outputs": [],
   "source": [
    "import pandas as pd"
   ]
  },
  {
   "cell_type": "code",
   "execution_count": 2,
   "metadata": {},
   "outputs": [],
   "source": [
    "#pd.options.display.max_columns = None\n",
    "#pd.options.display.max_rows = None"
   ]
  },
  {
   "cell_type": "markdown",
   "metadata": {},
   "source": [
    "### 1. Data Cleaning"
   ]
  },
  {
   "cell_type": "code",
   "execution_count": 3,
   "metadata": {},
   "outputs": [
    {
     "name": "stderr",
     "output_type": "stream",
     "text": [
      "/Users/Natalio/miniconda3/envs/pfironhack_env/lib/python3.7/site-packages/IPython/core/interactiveshell.py:3063: DtypeWarning: Columns (0) have mixed types.Specify dtype option on import or set low_memory=False.\n",
      "  interactivity=interactivity, compiler=compiler, result=result)\n"
     ]
    }
   ],
   "source": [
    "df = pd.read_csv('/Users/Natalio/Desktop/Cibeles/Ironhack/Proyecto_Final/Recursos/openfoodfacts_products.csv', sep='\\t')"
   ]
  },
  {
   "cell_type": "code",
   "execution_count": 4,
   "metadata": {},
   "outputs": [],
   "source": [
    "df['countries'] = df['countries'].str.lower()\n",
    "\n",
    "\n",
    "\n",
    "df['countries'] = df['countries'].str.replace('.*?[\\:]', '', regex=True)\n",
    "df['countries'] = df['countries'].str.replace('-', ' ')\n",
    "df['countries'] = df['countries'].str.replace(\"'\", '')\n",
    "df['countries'] = df['countries'].astype('str')\n",
    "df['countries'] = df['countries'].str.lstrip()\n",
    "df['countries'] = df['countries'].apply(lambda x: x.split(',')[0])"
   ]
  },
  {
   "cell_type": "code",
   "execution_count": 5,
   "metadata": {},
   "outputs": [],
   "source": [
    "#France\n",
    "france_list = ['frankrijk','france  ch','francuska','frankrig','béninfrance','frakland','ఫ్రాన్స్','francie',\n",
    "              ',francefrance,franceance','法国','francia','frankrike','frança','francefrance','ફ્રાન્સ','fr','フランス',\n",
    "              'frankreich', 'франция','franceance','frantsa','franceance','france  be','frankrijk','franca',\n",
    "               'frankriika','ranska','francija','franța','franceország','frankrike','fransa','guadeloupe',\n",
    "              'francja', 'ประเทศฝรั่งเศส', 'prancūzija', 'yt','γαλλία','franciaország', 'gp','فرنسا',]\n",
    "for i in france_list:\n",
    "    df['countries'] = df['countries'].str.replace('^'+ i + '$', 'france', regex=True)"
   ]
  },
  {
   "cell_type": "code",
   "execution_count": 6,
   "metadata": {},
   "outputs": [],
   "source": [
    "# Germany\n",
    "germany_list = ['tyskland','germania','de', 'frankreich, ','frankreich,','deutschlanddeutschland,','deutschlandde',\n",
    "               'allemagne','deutschlandutschland','alemania', 'deutschland', 'Tyskland','германия','niemcy',\n",
    "                'németország','saksa']\n",
    "for i in germany_list:\n",
    "    df['countries'] = df['countries'].str.replace('^'+ i + '$', 'germany', regex=True)"
   ]
  },
  {
   "cell_type": "code",
   "execution_count": 7,
   "metadata": {},
   "outputs": [],
   "source": [
    "# Spain\n",
    "\n",
    "\n",
    "spain_list = ['espanya', 'espanja','españa','espagne','es','spanien']\n",
    "for i in spain_list:\n",
    "    df['countries'] = df['countries'].str.replace('^'+ i + '$', 'spain', regex=True)"
   ]
  },
  {
   "cell_type": "code",
   "execution_count": 8,
   "metadata": {},
   "outputs": [],
   "source": [
    "# United Kingdom\n",
    "uk_list = ['великобритания','royaumeuni','gb','storbritannien','regno unito', 'en', 'reino unido',\n",
    "           'vereinigtes königreich','royaume uni']\n",
    "for i in uk_list:\n",
    "    df['countries'] = df['countries'].str.replace('^'+ i + '$', 'united kingdom', regex=True)"
   ]
  },
  {
   "cell_type": "code",
   "execution_count": 9,
   "metadata": {},
   "outputs": [],
   "source": [
    "# United States of America\n",
    "usa_list = ['runited states of america','étatsunis', 'verenigde staten van amerika', \"estats units d'amèrica\",\n",
    "            'états-unis', 'united-states', 'united states,united states', 'estados unidos','u.s.a','us',\n",
    "            'united states','vereunioninigte staaten von amerika','united states of americaofamerica',\n",
    "           'united states of america of america',  'amerikai egyesült államok','stati uniti damerica','usa',\n",
    "           'u.s. minor outlying islands', 'us',  'vereinigte staaten von amerika', '美国','الولايات',\n",
    "            'estats units damèrica','états unis', 'الولايات المتحدة']\n",
    "for i in usa_list:\n",
    "    df['countries'] = df['countries'].str.replace('^'+ i + '$', 'united states of america', regex=True)"
   ]
  },
  {
   "cell_type": "code",
   "execution_count": 10,
   "metadata": {},
   "outputs": [],
   "source": [
    "# Croatia\n",
    "croatia_list = ['horvátország','kroatien','croatie','hrvatska', 'hr']\n",
    "for i in croatia_list:\n",
    "    df['countries'] = df['countries'].str.replace('^'+ i + '$', 'croatia', regex=True)"
   ]
  },
  {
   "cell_type": "code",
   "execution_count": 11,
   "metadata": {},
   "outputs": [],
   "source": [
    "# Palestina\n",
    "palestina_list = [ 'palestinian territories','territoires palestiniens']\n",
    "for i in palestina_list:\n",
    "    df['countries'] = df['countries'].str.replace('^'+ i + '$', 'palestine', regex=True)"
   ]
  },
  {
   "cell_type": "code",
   "execution_count": 12,
   "metadata": {},
   "outputs": [],
   "source": [
    "# Reunion\n",
    "reunion_list = ['la réunion','réunion','re']\n",
    "for i in reunion_list:\n",
    "    df['countries'] = df['countries'].str.replace('^'+ i + '$', 'reunion', regex=True)\n",
    "                                               "
   ]
  },
  {
   "cell_type": "code",
   "execution_count": 13,
   "metadata": {},
   "outputs": [],
   "source": [
    "# Australia\n",
    "australia_list = ['澳大利亚','australie', 'au','australien']\n",
    "for i in australia_list:\n",
    "    df['countries'] = df['countries'].str.replace('^'+ i + '$', 'australia', regex=True)"
   ]
  },
  {
   "cell_type": "code",
   "execution_count": 14,
   "metadata": {},
   "outputs": [],
   "source": [
    "# French Polynesia\n",
    "frenchp_list = ['polynésie française', 'franceench polynesia','franceench-polynesia', 'pf']\n",
    "for i in frenchp_list:\n",
    "    df['countries'] = df['countries'].str.replace('^'+ i + '$', 'french polynesia', regex=True)"
   ]
  },
  {
   "cell_type": "code",
   "execution_count": 15,
   "metadata": {},
   "outputs": [],
   "source": [
    "# Mexico\n",
    "mexico_list = ['messico', 'méxico', 'mexique', 'mexiko', 'mx']\n",
    "for i in mexico_list:\n",
    "    df['countries'] = df['countries'].str.replace('^'+ i + '$', 'mexico', regex=True)"
   ]
  },
  {
   "cell_type": "code",
   "execution_count": 16,
   "metadata": {},
   "outputs": [],
   "source": [
    "# Switzerland\n",
    "switzerland_list = ['svájc', 'ch', 'suisse', 'schweiz','svizzera','suiza', 'at']\n",
    "for i in switzerland_list:\n",
    "    df['countries'] = df['countries'].str.replace('^'+ i + '$', 'switzerland', regex=True)"
   ]
  },
  {
   "cell_type": "code",
   "execution_count": 17,
   "metadata": {},
   "outputs": [],
   "source": [
    "# Congo\n",
    "congo_list = ['democratic republic of the congo', 'cd', 'cg','république du congo','republik kongo',\n",
    "              'Republic of the Congo', 'republic-of-the-congo', 'république démocratique du congo',\n",
    "              'république du congo','republic of the congo']\n",
    "for i in congo_list:\n",
    "    df['countries'] = df['countries'].str.replace('^'+ i + '$', 'congo', regex=True)"
   ]
  },
  {
   "cell_type": "code",
   "execution_count": 18,
   "metadata": {},
   "outputs": [],
   "source": [
    "# Denmark\n",
    "denmark_list = ['danemark','denemarken', 'países bajos','dinamarca','dänemark', 'Danmark', 'dk']\n",
    "for i in denmark_list:\n",
    "    df['countries'] = df['countries'].str.replace('^'+ i + '$', 'denmark', regex=True)"
   ]
  },
  {
   "cell_type": "code",
   "execution_count": 19,
   "metadata": {},
   "outputs": [],
   "source": [
    "# Sweden\n",
    "sweden_list = ['szwecja', 'suède', 'se', 'schweden', 'sverige']\n",
    "for i in sweden_list:\n",
    "    df['countries'] = df['countries'].str.replace('^'+ i + '$', 'sweden', regex=True)"
   ]
  },
  {
   "cell_type": "code",
   "execution_count": 20,
   "metadata": {},
   "outputs": [],
   "source": [
    "# Brasil\n",
    "brazil_list = ['brasil', 'brasilien','brasilien', 'br','brésil',]\n",
    "for i in brazil_list:\n",
    "    df['countries'] = df['countries'].str.replace('^'+ i + '$', 'brazil', regex=True)"
   ]
  },
  {
   "cell_type": "code",
   "execution_count": 21,
   "metadata": {},
   "outputs": [],
   "source": [
    "# Belgium\n",
    "belgium_list = ['belgio','βέλγιο','belçika','belgija','بلجيكا','bèlgica','belgique','bélgica','be','бельгия','belgia',\n",
    "               'belgië','belgien','бельгія']\n",
    "for i in belgium_list:\n",
    "    df['countries'] = df['countries'].str.replace('^'+ i + '$', 'belgium', regex=True)"
   ]
  },
  {
   "cell_type": "code",
   "execution_count": 22,
   "metadata": {},
   "outputs": [],
   "source": [
    "# New Zealand\n",
    "nz_list = ['nueva zelanda','neuseeland', 'nouvelle-zélande','新西兰','new zealand,new-zealand', 'nz']\n",
    "for i in nz_list:\n",
    "    df['countries'] = df['countries'].str.replace('^'+ i + '$', 'new zealand', regex=True)"
   ]
  },
  {
   "cell_type": "code",
   "execution_count": 23,
   "metadata": {},
   "outputs": [],
   "source": [
    "# Kuwait\n",
    "kuwait_list = ['koweït', 'kw', 'الكويت']\n",
    "for i in kuwait_list:\n",
    "    df['countries'] = df['countries'].str.replace('^'+ i + '$', 'kuwait', regex=True)"
   ]
  },
  {
   "cell_type": "code",
   "execution_count": 24,
   "metadata": {},
   "outputs": [],
   "source": [
    "# New_Caledonia\n",
    "newcaledonia_list = ['nueva caledonia','newcaledonia','nouvellecalédonie', 'nc', 'nouvelle calédonie']                                              \n",
    "for i in newcaledonia_list:\n",
    "    df['countries'] = df['countries'].str.replace('^'+ i + '$', 'new caledonia', regex=True)"
   ]
  },
  {
   "cell_type": "code",
   "execution_count": 25,
   "metadata": {},
   "outputs": [],
   "source": [
    "# Perú\n",
    "peru_list = ['pe', 'pérou', 'perú']\n",
    "for i in peru_list:\n",
    "    df['countries'] = df['countries'].str.replace('^'+ i + '$', 'peru', regex=True)"
   ]
  },
  {
   "cell_type": "code",
   "execution_count": 26,
   "metadata": {},
   "outputs": [],
   "source": [
    "# Pakistan\n",
    "pakistan_list = ['پاکستان', 'pk']\n",
    "for i in pakistan_list:\n",
    "    df['countries'] = df['countries'].str.replace('^'+ i + '$', 'pakistan', regex=True)"
   ]
  },
  {
   "cell_type": "code",
   "execution_count": 27,
   "metadata": {},
   "outputs": [],
   "source": [
    "# El Salvador\n",
    "salvador_list = ['elsalvador', 'sv', 'salvador']\n",
    "for i in salvador_list:\n",
    "    df['countries'] = df['countries'].str.replace('^'+ i + '$', 'el salvador', regex=True)"
   ]
  },
  {
   "cell_type": "code",
   "execution_count": 28,
   "metadata": {},
   "outputs": [],
   "source": [
    "# Austria\n",
    "austria_list = ['österreich', 'autriche', '奥地利']\n",
    "for i in austria_list:\n",
    "    df['countries'] = df['countries'].str.replace('^'+ i + '$', 'austria', regex=True)"
   ]
  },
  {
   "cell_type": "code",
   "execution_count": 29,
   "metadata": {},
   "outputs": [],
   "source": [
    "# Ivory Coast\n",
    "ivroycoast_list = ['ivoorkust', 'costa de marfil', 'ci', 'côte divoire']                                              \n",
    "for i in ivroycoast_list:\n",
    "    df['countries'] = df['countries'].str.replace('^'+ i + '$', 'ivory coast', regex=True)"
   ]
  },
  {
   "cell_type": "code",
   "execution_count": 30,
   "metadata": {},
   "outputs": [],
   "source": [
    "# Norway \n",
    "norway_list = ['no','νορβηγία','norge','norvège']  \n",
    "for i in norway_list:\n",
    "    df['countries'] = df['countries'].str.replace('^'+ i + '$', 'norway', regex=True)"
   ]
  },
  {
   "cell_type": "code",
   "execution_count": 31,
   "metadata": {},
   "outputs": [],
   "source": [
    "# China\n",
    "china_list = ['chine', 'hong-kong', 'hong kong', 'hongkong','republik china', '香港', 'hk','中华人民共和国']\n",
    "for i in china_list:\n",
    "    df['countries'] = df['countries'].str.replace('^'+ i + '$', 'china', regex=True)"
   ]
  },
  {
   "cell_type": "code",
   "execution_count": 32,
   "metadata": {},
   "outputs": [],
   "source": [
    "# Canada\n",
    "canada_list = ['cn','加拿大','كندا','canadá',  'kanada', 'канада', 'ca', 'canadà']\n",
    "for i in canada_list:\n",
    "    df['countries'] = df['countries'].str.replace('^'+ i + '$', 'canada', regex=True)"
   ]
  },
  {
   "cell_type": "code",
   "execution_count": 33,
   "metadata": {},
   "outputs": [],
   "source": [
    "# Singapore\n",
    "singapore_list = ['singapour','singapur', 'sg']\n",
    "for i in singapore_list:\n",
    "    df['countries'] = df['countries'].str.replace('^'+ i + '$', 'singapore', regex=True)"
   ]
  },
  {
   "cell_type": "code",
   "execution_count": 34,
   "metadata": {},
   "outputs": [],
   "source": [
    "# United Arab Emirates\n",
    "uae_list = ['unitedarabemirates', 'الإمارات العربية المتحدة', 'ae', 'émirats arabes unis']\n",
    "for i in uae_list:\n",
    "    df['countries'] = df['countries'].str.replace('^'+ i + '$', 'united arab emirates', regex=True)"
   ]
  },
  {
   "cell_type": "code",
   "execution_count": 35,
   "metadata": {},
   "outputs": [],
   "source": [
    "#Finland\n",
    "finland_list = ['finlândia','finlande','finnland','suomi', 'fi','finlandia']\n",
    "for i in finland_list:\n",
    "    df['countries'] = df['countries'].str.replace('^'+ i + '$', 'finland', regex=True)"
   ]
  },
  {
   "cell_type": "code",
   "execution_count": 36,
   "metadata": {},
   "outputs": [],
   "source": [
    "# Ireland\n",
    "ireland_list = ['irland','irlande', 'ie'] \n",
    "for i in ireland_list:\n",
    "    df['countries'] = df['countries'].str.replace('^'+ i + '$', 'ireland', regex=True)"
   ]
  },
  {
   "cell_type": "code",
   "execution_count": 37,
   "metadata": {},
   "outputs": [],
   "source": [
    "# Colombia\n",
    "colombia_list = ['kolumbien','colombie', 'co']\n",
    "for i in colombia_list:\n",
    "    df['countries'] = df['countries'].str.replace('^'+ i + '$', 'colombia', regex=True)"
   ]
  },
  {
   "cell_type": "code",
   "execution_count": 38,
   "metadata": {},
   "outputs": [],
   "source": [
    "# Armenia\n",
    "armenia_list = ['arménie','am']\n",
    "for i in armenia_list:\n",
    "    df['countries'] = df['countries'].str.replace('^'+ i + '$', 'armenia', regex=True)"
   ]
  },
  {
   "cell_type": "code",
   "execution_count": 39,
   "metadata": {},
   "outputs": [],
   "source": [
    "# French Guiana\n",
    "frenchguiana_list = ['guiana francesa','gf']\n",
    "for i in frenchguiana_list:\n",
    "    df['countries'] = df['countries'].str.replace('^'+ i + '$', 'french guiana', regex=True)"
   ]
  },
  {
   "cell_type": "code",
   "execution_count": 40,
   "metadata": {},
   "outputs": [],
   "source": [
    "# ukraine\n",
    "ukraine_list = ['украина', 'ua','україна']\n",
    "for i in ukraine_list:\n",
    "    df['countries'] = df['countries'].str.replace('^'+ i + '$', 'ukraine', regex=True)"
   ]
  },
  {
   "cell_type": "code",
   "execution_count": 41,
   "metadata": {},
   "outputs": [],
   "source": [
    "# Iraq\n",
    "iraq_list = ['irak', 'iq','العراق']\n",
    "for i in iraq_list:\n",
    "    df['countries'] = df['countries'].str.replace('^'+ i + '$', 'iraq', regex=True)"
   ]
  },
  {
   "cell_type": "code",
   "execution_count": 42,
   "metadata": {},
   "outputs": [],
   "source": [
    "# Netherlands\n",
    "netherlands_list = [ 'hollande','ne','nederlân', 'pays bas', 'nl','niederlande',]\n",
    "for i in netherlands_list:\n",
    "    df['countries'] = df['countries'].str.replace('^'+ i + '$', 'netherlands', regex=True)"
   ]
  },
  {
   "cell_type": "code",
   "execution_count": 43,
   "metadata": {},
   "outputs": [],
   "source": [
    "# South Africa\n",
    "southafrica_list = ['sudáfrica','southafrica', 'sa','afrique du sud']\n",
    "for i in southafrica_list:\n",
    "    df['countries'] = df['countries'].str.replace('^'+ i + '$', 'south africa', regex=True)"
   ]
  },
  {
   "cell_type": "code",
   "execution_count": 44,
   "metadata": {},
   "outputs": [],
   "source": [
    "# Russia\n",
    "russia_list = ['russie','rs','ru','россия','rússia','rusia']\n",
    "for i in russia_list:\n",
    "    df['countries'] = df['countries'].str.replace('^'+ i + '$', 'russia', regex=True)"
   ]
  },
  {
   "cell_type": "code",
   "execution_count": 45,
   "metadata": {},
   "outputs": [],
   "source": [
    "# Czech\n",
    "czech_list = ['tsjechië','tschechien', 'cz','république tchèque','czechy', 'czechia','česko','república checa']\n",
    "for i in czech_list:\n",
    "    df['countries'] = df['countries'].str.replace('^'+ i + '$', 'czech republic', regex=True)"
   ]
  },
  {
   "cell_type": "code",
   "execution_count": 46,
   "metadata": {},
   "outputs": [],
   "source": [
    "# Chile\n",
    "chile_list = ['chili','cl']\n",
    "for i in chile_list:\n",
    "    df['countries'] = df['countries'].str.replace('^'+ i + '$', 'chile', regex=True)"
   ]
  },
  {
   "cell_type": "code",
   "execution_count": 47,
   "metadata": {},
   "outputs": [],
   "source": [
    "# Italy\n",
    "list_italy = ['إيطاليا','włochy','italien','olaszország', 'italia', 'italie', 'it']\n",
    "for i in list_italy:\n",
    "    df['countries'] = df['countries'].str.replace('^'+ i + '$', 'italy', regex=True)"
   ]
  },
  {
   "cell_type": "code",
   "execution_count": 48,
   "metadata": {},
   "outputs": [],
   "source": [
    "# Turkey\n",
    "turkey_list = ['turkiye','tr','turquie','türkiye']\n",
    "for i in turkey_list:\n",
    "    df['countries'] = df['countries'].str.replace('^'+ i + '$', 'turkey', regex=True)"
   ]
  },
  {
   "cell_type": "code",
   "execution_count": 49,
   "metadata": {},
   "outputs": [],
   "source": [
    "# Hungary\n",
    "hungary_list = ['vengrija','hu','ungarn','magyarország','ungaria','madžarska','hongrie']\n",
    "for i in hungary_list:\n",
    "    df['countries'] = df['countries'].str.replace('^'+ i + '$', 'hungary', regex=True)"
   ]
  },
  {
   "cell_type": "code",
   "execution_count": 50,
   "metadata": {},
   "outputs": [],
   "source": [
    "# Belarus\n",
    "belarus_list = ['белоруссия', 'by','biélorussie']\n",
    "for i in belarus_list:\n",
    "    df['countries'] = df['countries'].str.replace('^'+ i + '$', 'belarus', regex=True)"
   ]
  },
  {
   "cell_type": "code",
   "execution_count": 51,
   "metadata": {},
   "outputs": [],
   "source": [
    "# Kazakhstan\n",
    "kazakhstan_list = ['kz','казахстан']\n",
    "for i in kazakhstan_list:\n",
    "    df['countries'] = df['countries'].str.replace('^'+ i + '$', 'kazakhstan', regex=True)"
   ]
  },
  {
   "cell_type": "code",
   "execution_count": 52,
   "metadata": {},
   "outputs": [],
   "source": [
    "# Poland\n",
    "poland_list = ['pologne','польша','polska','pl']\n",
    "for i in poland_list:\n",
    "    df['countries'] = df['countries'].str.replace('^'+ i + '$', 'poland', regex=True)"
   ]
  },
  {
   "cell_type": "code",
   "execution_count": 53,
   "metadata": {},
   "outputs": [],
   "source": [
    "# Greece\n",
    "greece_list = ['gr','grèce','görögország', 'ελλάδα',]\n",
    "for i in greece_list:\n",
    "    df['countries'] = df['countries'].str.replace('^'+ i + '$', 'greece', regex=True)"
   ]
  },
  {
   "cell_type": "code",
   "execution_count": 54,
   "metadata": {},
   "outputs": [],
   "source": [
    "# Romania\n",
    "romania_list = ['ro','românia', 'roumanie']\n",
    "for i in romania_list:\n",
    "    df['countries'] = df['countries'].str.replace('^'+ i + '$', 'romania', regex=True)"
   ]
  },
  {
   "cell_type": "code",
   "execution_count": 55,
   "metadata": {},
   "outputs": [],
   "source": [
    "# Slovakia\n",
    "slovakia_list = ['slovensko','sk']\n",
    "for i in slovakia_list:\n",
    "    df['countries'] = df['countries'].str.replace('^'+ i + '$', 'slovakia', regex=True)"
   ]
  },
  {
   "cell_type": "code",
   "execution_count": 56,
   "metadata": {},
   "outputs": [],
   "source": [
    "# Slovenia\n",
    "slovenia_list = ['eslovenia','slovenija','si']\n",
    "for i in slovenia_list:\n",
    "    df['countries'] = df['countries'].str.replace('^'+ i + '$', 'slovenia', regex=True)"
   ]
  },
  {
   "cell_type": "code",
   "execution_count": 57,
   "metadata": {},
   "outputs": [],
   "source": [
    "# Georgia\n",
    "georgia_list = ['ge','грузия']\n",
    "for i in georgia_list:\n",
    "    df['countries'] = df['countries'].str.replace('^'+ i + '$', 'georgia', regex=True)"
   ]
  },
  {
   "cell_type": "code",
   "execution_count": 58,
   "metadata": {},
   "outputs": [],
   "source": [
    "#Cambodia\n",
    "pakistan_list = ['khht','cambodge', 'kh']\n",
    "for i in pakistan_list:\n",
    "    df['countries'] = df['countries'].str.replace('^'+ i + '$', 'cambodia', regex=True)"
   ]
  },
  {
   "cell_type": "code",
   "execution_count": 59,
   "metadata": {},
   "outputs": [],
   "source": [
    "#Portugal\n",
    "portugal_list = ['البرتغال','portugalia', 'pt']\n",
    "for i in portugal_list:\n",
    "    df['countries'] = df['countries'].str.replace('^'+ i + '$', 'portugal', regex=True)"
   ]
  },
  {
   "cell_type": "code",
   "execution_count": 60,
   "metadata": {},
   "outputs": [],
   "source": [
    "# japan\n",
    "japan_list = ['日本','japon', 'jp']\n",
    "for i in japan_list:\n",
    "    df['countries'] = df['countries'].str.replace('^'+ i + '$', 'japan', regex=True)"
   ]
  },
  {
   "cell_type": "code",
   "execution_count": 61,
   "metadata": {},
   "outputs": [],
   "source": [
    "# Saudi Arabia\n",
    "saudiarabia_list = ['saudiarabia','السعودية','arabie saoudite']\n",
    "for i in saudiarabia_list:\n",
    "    df['countries'] = df['countries'].str.replace('^'+ i + '$', 'saudi arabia', regex=True)"
   ]
  },
  {
   "cell_type": "code",
   "execution_count": 62,
   "metadata": {},
   "outputs": [],
   "source": [
    "# Dominican Republic\n",
    "dominicanrep_list = ['république dominicaine','república dominicana', 'do']\n",
    "for i in dominicanrep_list:\n",
    "    df['countries'] = df['countries'].str.replace('^'+ i + '$', 'dominican republic', regex=True)"
   ]
  },
  {
   "cell_type": "code",
   "execution_count": 63,
   "metadata": {},
   "outputs": [],
   "source": [
    "# guinea\n",
    "guinea_list = ['gn', 'guinée']\n",
    "for i in guinea_list:\n",
    "    df['countries'] = df['countries'].str.replace('^'+ i + '$', 'guinea', regex=True)"
   ]
  },
  {
   "cell_type": "code",
   "execution_count": 64,
   "metadata": {},
   "outputs": [],
   "source": [
    "# senegal\n",
    "senegal_list = ['sn', 'sénégal']\n",
    "for i in senegal_list:\n",
    "    df['countries'] = df['countries'].str.replace('^'+ i + '$', 'senegal', regex=True)"
   ]
  },
  {
   "cell_type": "code",
   "execution_count": 65,
   "metadata": {},
   "outputs": [],
   "source": [
    "# benin\n",
    "benin_list = ['bénin','bj']\n",
    "for i in benin_list:\n",
    "    df['countries'] = df['countries'].str.replace('^'+ i + '$', 'benin', regex=True)"
   ]
  },
  {
   "cell_type": "code",
   "execution_count": 66,
   "metadata": {},
   "outputs": [],
   "source": [
    "# Algeria\n",
    "algeria_list = ['dz','الجزائر','algerien', 'algérie']\n",
    "for i in algeria_list:\n",
    "    df['countries'] = df['countries'].str.replace('^'+ i + '$', 'algeria', regex=True)"
   ]
  },
  {
   "cell_type": "code",
   "execution_count": 67,
   "metadata": {},
   "outputs": [],
   "source": [
    "# Bulgaria\n",
    "bulgaria_list = ['bulgarie', 'bg','bulgarien', 'bulgaria','българия']\n",
    "for i in bulgaria_list:\n",
    "    df['countries'] = df['countries'].str.replace('^'+ i + '$', 'bulgaria', regex=True)"
   ]
  },
  {
   "cell_type": "code",
   "execution_count": 68,
   "metadata": {},
   "outputs": [],
   "source": [
    "# Vietnam\n",
    "vietnam_list = ['vn', 'việt nam']\n",
    "for i in vietnam_list:\n",
    "    df['countries'] = df['countries'].str.replace('^'+ i + '$', 'vietnam', regex=True)"
   ]
  },
  {
   "cell_type": "code",
   "execution_count": 69,
   "metadata": {},
   "outputs": [],
   "source": [
    "# Iceland\n",
    "iceland_list = ['is','islande']\n",
    "for i in iceland_list:\n",
    "    df['countries'] = df['countries'].str.replace('^'+ i + '$', 'iceland', regex=True)"
   ]
  },
  {
   "cell_type": "code",
   "execution_count": 70,
   "metadata": {},
   "outputs": [],
   "source": [
    "# Moldova\n",
    "moldova_list = ['republic of moldova','md','moldovamg']\n",
    "for i in moldova_list:\n",
    "    df['countries'] = df['countries'].str.replace('^'+ i + '$', 'moldova', regex=True)"
   ]
  },
  {
   "cell_type": "code",
   "execution_count": 71,
   "metadata": {},
   "outputs": [],
   "source": [
    "# Guyana\n",
    "guyana_list = ['guyane','gy']\n",
    "for i in guyana_list:\n",
    "    df['countries'] = df['countries'].str.replace('^'+ i + '$', 'guyana', regex=True)"
   ]
  },
  {
   "cell_type": "code",
   "execution_count": 72,
   "metadata": {},
   "outputs": [],
   "source": [
    "# India\n",
    "india_list = ['भारत','inde', 'in']\n",
    "for i in india_list:\n",
    "    df['countries'] = df['countries'].str.replace('^'+ i + '$', 'india', regex=True)"
   ]
  },
  {
   "cell_type": "code",
   "execution_count": 73,
   "metadata": {},
   "outputs": [],
   "source": [
    "# Luxembourg\n",
    "luxembourg_list = ['lussemburgo','luxemburg','lussemburgo', 'lu']\n",
    "for i in luxembourg_list:\n",
    "    df['countries'] = df['countries'].str.replace('^'+ i + '$', 'luxembourg', regex=True)"
   ]
  },
  {
   "cell_type": "code",
   "execution_count": 74,
   "metadata": {},
   "outputs": [],
   "source": [
    "# egypt\n",
    "egypt_list = ['égypte','eg','مصر']\n",
    "for i in egypt_list:\n",
    "    df['countries'] = df['countries'].str.replace('^'+ i + '$', 'egypt', regex=True)"
   ]
  },
  {
   "cell_type": "code",
   "execution_count": 75,
   "metadata": {},
   "outputs": [],
   "source": [
    "# indonesia\n",
    "indonesia_list = ['indonésie','id']\n",
    "for i in indonesia_list:\n",
    "    df['countries'] = df['countries'].str.replace('^'+ i + '$', 'indonesia', regex=True)"
   ]
  },
  {
   "cell_type": "code",
   "execution_count": 76,
   "metadata": {},
   "outputs": [],
   "source": [
    "# haiti\n",
    "haiti_list = ['haïti', 'ht','haïti' ]\n",
    "for i in haiti_list:\n",
    "    df['countries'] = df['countries'].str.replace('^'+ i + '$', 'haiti', regex=True)"
   ]
  },
  {
   "cell_type": "code",
   "execution_count": 77,
   "metadata": {},
   "outputs": [],
   "source": [
    "# Lithuania\n",
    "lithuania_list = ['lietuva', 'republic of lithuania']\n",
    "for i in lithuania_list:\n",
    "    df['countries'] = df['countries'].str.replace('^'+ i + '$', 'lithuania', regex=True)"
   ]
  },
  {
   "cell_type": "code",
   "execution_count": 78,
   "metadata": {},
   "outputs": [],
   "source": [
    "# Lebanon\n",
    "lebanon_list = ['lb', 'liban','لبنان']\n",
    "for i in lebanon_list:\n",
    "    df['countries'] = df['countries'].str.replace('^'+ i + '$', 'lebanon', regex=True)"
   ]
  },
  {
   "cell_type": "code",
   "execution_count": 79,
   "metadata": {},
   "outputs": [],
   "source": [
    "# Thailand\n",
    "thai_list = ['thaïlande', 'th', 'ประเทศไทย (thai)', 'ประเทศไทย (thai)']\n",
    "for i in thai_list:\n",
    "    df['countries'] = df['countries'].str.replace('^'+ i + '$', 'thailand', regex=True)\n",
    "df['countries'] = df['countries'].str.replace('(thai)', 'thailand', regex=True)"
   ]
  },
  {
   "cell_type": "code",
   "execution_count": 80,
   "metadata": {},
   "outputs": [],
   "source": [
    "# Malaysia\n",
    "malaysia_list = ['my', 'malasia']\n",
    "for i in malaysia_list:\n",
    "    df['countries'] = df['countries'].str.replace('^'+ i + '$', 'malaysia', regex=True)"
   ]
  },
  {
   "cell_type": "code",
   "execution_count": 81,
   "metadata": {},
   "outputs": [],
   "source": [
    "# Panama\n",
    "panama_list = ['panamá', 'pa']\n",
    "for i in panama_list:\n",
    "    df['countries'] = df['countries'].str.replace('^'+ i + '$', 'panama', regex=True)"
   ]
  },
  {
   "cell_type": "code",
   "execution_count": 82,
   "metadata": {},
   "outputs": [],
   "source": [
    "# tunisia\n",
    "tunisia_list = ['tunisie', 'tn','تونس',]\n",
    "for i in tunisia_list:\n",
    "    df['countries'] = df['countries'].str.replace('^'+ i + '$', 'tunisia', regex=True)"
   ]
  },
  {
   "cell_type": "code",
   "execution_count": 83,
   "metadata": {},
   "outputs": [],
   "source": [
    "# Mauritius\n",
    "mauritius_list = ['mauricio', 'maurice', 'mu']\n",
    "for i in mauritius_list:\n",
    "    df['countries'] = df['countries'].str.replace('^'+ i + '$', 'tunisia', regex=True)"
   ]
  },
  {
   "cell_type": "code",
   "execution_count": 84,
   "metadata": {},
   "outputs": [],
   "source": [
    "# Taiwan\n",
    "taiwan_list = ['中華民國', 'tw']\n",
    "for i in taiwan_list:\n",
    "    df['countries'] = df['countries'].str.replace('^'+ i + '$', 'taiwan', regex=True)"
   ]
  },
  {
   "cell_type": "code",
   "execution_count": 85,
   "metadata": {},
   "outputs": [],
   "source": [
    "# bahrain\n",
    "bahrain_list = ['bh', 'bahreïn']\n",
    "for i in bahrain_list:\n",
    "    df['countries'] = df['countries'].str.replace('^'+ i + '$', 'bahrain', regex=True)\n"
   ]
  },
  {
   "cell_type": "code",
   "execution_count": 86,
   "metadata": {},
   "outputs": [],
   "source": [
    "# Reunion\n",
    "reunion_list = ['riunione', 're']\n",
    "for i in reunion_list:\n",
    "    df['countries'] = df['countries'].str.replace('^'+ i + '$', 'reunion', regex=True)   \n"
   ]
  },
  {
   "cell_type": "code",
   "execution_count": 87,
   "metadata": {},
   "outputs": [],
   "source": [
    "# south korea\n",
    "skorea_list = ['corée du sud', 'corea del sur','대한민국',]\n",
    "for i in skorea_list:\n",
    "    df['countries'] = df['countries'].str.replace('^'+ i + '$', 'south korea', regex=True)"
   ]
  },
  {
   "cell_type": "code",
   "execution_count": 88,
   "metadata": {},
   "outputs": [],
   "source": [
    "# Israel\n",
    "israel_list = ['israël','il','ישראל']\n",
    "for i in israel_list:\n",
    "    df['countries'] = df['countries'].str.replace('^'+ i + '$', 'israel', regex=True)"
   ]
  },
  {
   "cell_type": "code",
   "execution_count": 89,
   "metadata": {},
   "outputs": [],
   "source": [
    "# Saint Martin\n",
    "smartin_list = ['Sint Maarten', 'mf']\n",
    "for i in smartin_list:\n",
    "    df['countries'] = df['countries'].str.replace('^'+ i + '$', 'saint martin', regex=True)"
   ]
  },
  {
   "cell_type": "code",
   "execution_count": 90,
   "metadata": {},
   "outputs": [],
   "source": [
    "# Bahamas\n",
    "bahamas_list = ['bf', 'the bahamas', 'bs']\n",
    "for i in bahamas_list:\n",
    "    df['countries'] = df['countries'].str.replace('^'+ i + '$', 'bahamas', regex=True)"
   ]
  },
  {
   "cell_type": "code",
   "execution_count": 91,
   "metadata": {},
   "outputs": [],
   "source": [
    "# cameroon\n",
    "cameroon_list = ['cm', 'cameroun']\n",
    "for i in cameroon_list:\n",
    "    df['countries'] = df['countries'].str.replace('^'+ i + '$', 'cameroon', regex=True)"
   ]
  },
  {
   "cell_type": "code",
   "execution_count": 92,
   "metadata": {},
   "outputs": [],
   "source": [
    "# Chad\n",
    "chad_list = ['tchad']\n",
    "for i in chad_list:\n",
    "    df['countries'] = df['countries'].str.replace('^'+ i + '$', 'chad', regex=True)"
   ]
  },
  {
   "cell_type": "code",
   "execution_count": 93,
   "metadata": {},
   "outputs": [],
   "source": [
    "# Morocco\n",
    "morocco_list = ['marruecos', 'moroco', 'moroko', 'ma']\n",
    "for i in morocco_list:\n",
    "    df['countries'] = df['countries'].str.replace('^'+ i + '$', 'morocco', regex=True)"
   ]
  },
  {
   "cell_type": "code",
   "execution_count": 94,
   "metadata": {},
   "outputs": [],
   "source": [
    "# jordan\n",
    "jordan_list = ['hashemite kingdom of jordan', 'الأردن','الأردن']\n",
    "for i in morocco_list:\n",
    "    df['countries'] = df['countries'].str.replace('^'+ i + '$', 'jordan', regex=True)"
   ]
  },
  {
   "cell_type": "code",
   "execution_count": 95,
   "metadata": {},
   "outputs": [],
   "source": [
    "# Iceland\n",
    "iceland_list = ['ísland','islande']\n",
    "for i in iceland_list:\n",
    "    df['countries'] = df['countries'].str.replace('^'+ i + '$', 'iceland', regex=True)"
   ]
  },
  {
   "cell_type": "code",
   "execution_count": 96,
   "metadata": {},
   "outputs": [],
   "source": [
    "# Romania\n",
    "romania_list = ['romunija','rumania','románia']\n",
    "for i in romania_list:\n",
    "    df['countries'] = df['countries'].str.replace('^'+ i + '$', 'romania', regex=True)\n"
   ]
  },
  {
   "cell_type": "code",
   "execution_count": 97,
   "metadata": {},
   "outputs": [],
   "source": [
    "# Costa Rica\n",
    "costarica_list = ['costarica', 'cr']\n",
    "for i in costarica_list:\n",
    "    df['countries'] = df['countries'].str.replace('^'+ i + '$', 'costa rica', regex=True)"
   ]
  },
  {
   "cell_type": "code",
   "execution_count": 98,
   "metadata": {},
   "outputs": [],
   "source": [
    "# Madagascar\n",
    "madagascar_list = ['md', 'mg']\n",
    "for i in madagascar_list:\n",
    "    df['countries'] = df['countries'].str.replace('^'+ i + '$', 'madagascar', regex=True)"
   ]
  },
  {
   "cell_type": "code",
   "execution_count": 99,
   "metadata": {},
   "outputs": [],
   "source": [
    "# Countries with single results\n",
    "# Yemen\n",
    "df['countries'] = df['countries'].str.replace('jemen', 'yemen')\n",
    "\n",
    "# Myanmar\n",
    "df['countries'] = df['countries'].str.replace('^mm$', 'myanmar', regex=True)\n",
    "\n",
    "# Sint Maarten\n",
    "df['countries'] = df['countries'].str.replace('^sx$', 'Sint Maarten', regex=True)\n",
    "                                              \n",
    "# Gibraltar (español)                                              \n",
    "df['countries'] = df['countries'].str.replace('^gi$', 'gibraltar', regex=True)                                                          \n",
    "\n",
    "# Barbados\n",
    "df['countries'] = df['countries'].str.replace('^bb$', 'barbados', regex=True)\n",
    "\n",
    "# mali\n",
    "df['countries'] = df['countries'].str.replace('^ml$', 'mali', regex=True)\n",
    "\n",
    "# Maldives\n",
    "df['countries'] = df['countries'].str.replace('^mv$', 'maldives', regex=True)\n",
    "\n",
    "# Azerbaijan\n",
    "df['countries'] = df['countries'].str.replace('^azerbaïdjan$', 'azerbaijan', regex=True)\n",
    "\n",
    "# Bolivia\n",
    "df['countries'] = df['countries'].str.replace('^bo$', 'bolivia', regex=True)\n",
    "\n",
    "# No sabía que este país existía\n",
    "df['countries'] = df['countries'].str.replace('^dom tom$', 'overseas france', regex=True)\n",
    "\n",
    "# Wallis and Futuna\n",
    "df['countries'] = df['countries'].str.replace('^wf$', 'wallis and futuna', regex=True)\n",
    "\n",
    "# Surinam\n",
    "df['countries'] = df['countries'].str.replace('^suriname$', 'surinam', regex=True)\n",
    "\n",
    "#Kiribati\n",
    "df['countries'] = df['countries'].str.replace('^kr$', 'kiribati', regex=True)\n",
    "\n",
    "#Kosovo\n",
    "df['countries'] = df['countries'].str.replace('^xk$', 'kosovo', regex=True)\n",
    "\n",
    "#Cape Verde\n",
    "df['countries'] = df['countries'].str.replace('^cv$', 'cape verde', regex=True)\n",
    "\n",
    "#Estonia\n",
    "df['countries'] = df['countries'].str.replace('^estonie$', 'estonia', regex=True)\n",
    "\n",
    "# Togo\n",
    "df['countries'] = df['countries'].str.replace('^tg$', 'togo', regex=True)\n",
    "\n",
    "# Malta\n",
    "df['countries'] = df['countries'].str.replace('^mt$', 'malta', regex=True)\n",
    "\n",
    "# Cyprus\n",
    "df['countries'] = df['countries'].str.replace('^cy$', 'cyprus', regex=True)\n",
    "\n",
    "# Zambia\n",
    "df['countries'] = df['countries'].str.replace('^za$', 'zambia', regex=True)\n",
    "\n",
    "# Latvia\n",
    "df['countries'] = df['countries'].str.replace('^lv$', 'latvia', regex=True)\n",
    "\n",
    "# Kyrgyzstan\n",
    "df['countries'] = df['countries'].str.replace('^ky$', 'kyrgyzstan', regex=True)\n",
    "\n",
    "# Bangladesh\n",
    "df['countries'] = df['countries'].str.replace('^বাংলাদেশ$', 'bangladesh', regex=True)\n",
    "\n",
    "\n",
    "# Ghanagr\n",
    "df['countries'] = df['countries'].str.replace('^gh$', 'ghana', regex=True)\n",
    "\n",
    "\n",
    "# monaco\n",
    "df['countries'] = df['countries'].str.replace('^mc$', 'monaco', regex=True)\n",
    "\n",
    "# Curaçao\n",
    "df['countries'] = df['countries'].str.replace('^cw$', 'curaçao', regex=True)\n",
    "\n",
    "# ecuador\n",
    "df['countries'] = df['countries'].str.replace('^ec$', 'ecuador', regex=True)\n",
    "\n",
    "# venezuela\n",
    "df['countries'] = df['countries'].str.replace('^ve$', 'venezuela', regex=True)\n",
    "\n",
    "# gabon\n",
    "df['countries'] = df['countries'].str.replace('^ga$', 'gabon', regex=True)\n",
    "\n",
    "# argentina\n",
    "df['countries'] = df['countries'].str.replace('^ar$', 'argentina', regex=True)\n",
    "\n",
    "# laos\n",
    "df['countries'] = df['countries'].str.replace('^la$', 'laos', regex=True)\n",
    "\n",
    "# guernsey\n",
    "df['countries'] = df['countries'].str.replace('^gg$', 'guernsey', regex=True)\n",
    "\n",
    "# saint pierre and miquelon\n",
    "df['countries'] = df['countries'].str.replace('^pm$', 'saint pierre and miquelon', regex=True)\n",
    "\n",
    "# saint lucia\n",
    "df['countries'] = df['countries'].str.replace('^lc$', 'saint lucia', regex=True)\n",
    "\n",
    "# Martinique\n",
    "df['countries'] = df['countries'].str.replace('^mq$', 'martinique', regex=True)\n",
    "\n",
    "# serbia\n",
    "df['countries'] = df['countries'].str.replace('^србија$', 'serbia', regex=True)\n",
    "\n",
    "\n",
    "# Nicaragua\n",
    "df['countries'] = df['countries'].str.replace('^ni$', 'nicaragua', regex=True)\n",
    "\n",
    "# philippines\n",
    "df['countries'] = df['countries'].str.replace('^ph$', 'philippines', regex=True)\n",
    "\n",
    "# djibouti\n",
    "df['countries'] = df['countries'].str.replace('^dj$', 'djibouti', regex=True)\n",
    "\n",
    "# albania\n",
    "df['countries'] = df['countries'].str.replace('^albanie$', 'albania', regex=True)\n",
    "\n",
    "# Nepal\n",
    "df['countries'] = df['countries'].str.replace('^np$', 'nepal', regex=True)\n",
    "\n",
    "# macao\n",
    "df['countries'] = df['countries'].str.replace('^mo$', 'macao', regex=True)\n",
    "\n",
    "# mauritania\n",
    "df['countries'] = df['countries'].str.replace('^mr$', 'mauritania', regex=True)\n",
    "\n",
    "# Jersey\n",
    "df['countries'] = df['countries'].str.replace('^je$', 'jersey', regex=True)\n",
    "\n",
    "# Puerto Rico\n",
    "df['countries'] = df['countries'].str.replace('^pr$', 'puerto rico', regex=True)\n",
    "\n",
    "# Oman\n",
    "df['countries'] = df['countries'].str.replace('^om$', 'oman', regex=True)\n",
    "\n",
    "# Andorra\n",
    "df['countries'] = df['countries'].str.replace('^ad$', 'andorra', regex=True)\n",
    "\n",
    "# Jamaica\n",
    "df['countries'] = df['countries'].str.replace('^jm$', 'jamaica', regex=True)\n",
    "\n",
    "# Seychelles\n",
    "df['countries'] = df['countries'].str.replace('^sc$', 'seychelles', regex=True)\n",
    "\n",
    "# maroc\n",
    "df['countries'] = df['countries'].str.replace('^maroc$', 'marocco', regex=True)\n",
    "\n",
    "# macedonia\n",
    "df['countries'] = df['countries'].str.replace('^mk$', 'macedonia', regex=True)\n",
    "\n",
    "# qatar\n",
    "df['countries'] = df['countries'].str.replace('^qa$', 'qatar', regex=True)\n",
    "\n",
    "# guatemala\n",
    "df['countries'] = df['countries'].str.replace('^gt$', 'guatelama', regex=True)\n",
    "\n",
    "# Grenada\n",
    "df['countries'] = df['countries'].str.replace('^gd$', 'grenada', regex=True)\n",
    "\n",
    "\n",
    "# Mix\n",
    "df['countries'] = df['countries'].str.replace('deutschlanditalien', 'germany, italy')\n",
    "df['countries'] = df['countries'].str.replace('^canadafrance$', 'canada, france', regex=True)\n",
    "df['countries'] = df['countries'].str.replace('^france  ca$', 'france, canada', regex=True)\n",
    "df['countries'] = df['countries'].str.replace('^chinafrancegermanyspain$', 'china, france, germany, spain', regex=True)\n",
    "df['countries'] = df['countries'].str.replace('^france  germany$', 'france, germany', regex=True)\n",
    "df['countries'] = df['countries'].str.replace('^france  de$', 'france, germany', regex=True)\n",
    "df['countries'] = df['countries'].str.replace('^belgium  france  switzerland$', 'belgium, france, switzerland', regex=True)\n",
    "df['countries'] = df['countries'].str.replace('^france  belgium$', 'france, belgium', regex=True)\n",
    "df['countries'] = df['countries'].str.replace('^germany  france$', 'germany, france', regex=True)\n",
    "df['countries'] = df['countries'].str.replace('^turquiefrance$', 'turkey, france', regex=True)\n",
    "df['countries'] = df['countries'].str.replace('^france  us$', 'france, united states of america', regex=True)\n",
    "df['countries'] = df['countries'].str.replace('^france  polynésie franceise$', 'france, french polynesia', regex=True)\n",
    "df['countries'] = df['countries'].str.replace('^polinesia francesa  spain$', ', french polynesia, spain', regex=True)\n",
    "df['countries'] = df['countries'].str.replace('^mexiquefrance$', 'mexico, france')\n",
    "df['countries'] = df['countries'].str.replace('^francia  spain$', 'france, spain')\n",
    "df['countries'] = df['countries'].str.replace('^czech republic  france$', 'czech republic, france')\n",
    "df['countries'] = df['countries'].str.replace('^france  united states$', 'france, united states of america')\n",
    "df['countries'] = df['countries'].str.replace('^france  spain  united states$', 'france, spain, united states')\n",
    "df['countries'] = df['countries'].str.replace('^france  hong kong  germany$', 'france, hong kong, germany')\n",
    "df['countries'] = df['countries'].str.replace('^france canada$', 'france, canada')\n",
    "df['countries'] = df['countries'].str.replace('^france  espagne  royaume uni  united kingdom$', 'france, spain, united kingdom')\n",
    "df['countries'] = df['countries'].str.replace('^belgique  france$', 'belgium, france')\n",
    "df['countries'] = df['countries'].str.replace('^frankreich  ch$', 'france, switzerland', regex=True)\n",
    "df['countries'] = df['countries'].str.replace('^francia  alemania  españa$', 'france, germany, spain', regex=True)\n",
    "df['countries'] = df['countries'].str.replace('^china frankreich deutschland spanien$', 'china, france, germany, spain', regex=True)\n",
    "df['countries'] = df['countries'].str.replace('^france  allemagne$', 'france, germany', regex=True)\n",
    "df['countries'] = df['countries'].str.replace('^allemagne  france$', 'germany, germany', regex=True)\n",
    "df['countries'] = df['countries'].str.replace('^belgique  france  luxembourg$', 'belgium, france, luxembourg', regex=True)\n",
    "df['countries'] = df['countries'].str.replace('^frankreich  de$', 'france, germany', regex=True)\n",
    "df['countries'] = df['countries'].str.replace('^frankreich  deutschland$', 'france, germany', regex=True)\n",
    "df['countries'] = df['countries'].str.replace('^angola  france  united states$', 'angola, france, united states', regex=True)\n",
    "\n",
    "\n",
    "\n",
    "\n",
    "                                           "
   ]
  },
  {
   "cell_type": "code",
   "execution_count": 100,
   "metadata": {},
   "outputs": [],
   "source": [
    "delete = ['saksa','unione europea','eu', 'union europea','union européenne','europäische union', 'european union',\n",
    "         'unión europea']"
   ]
  },
  {
   "cell_type": "code",
   "execution_count": 101,
   "metadata": {},
   "outputs": [],
   "source": [
    "df['countries'] = df['countries'].apply(lambda x: x.split(',')[0])"
   ]
  },
  {
   "cell_type": "code",
   "execution_count": 102,
   "metadata": {},
   "outputs": [
    {
     "data": {
      "text/plain": [
       "array(['france', 'spain', 'united states of america', 'ireland', 'nan',\n",
       "       'belgium', 'united kingdom', 'canada', 'switzerland', 'germany',\n",
       "       'peru', 'oman', 'slovenia', 'kuwait', 'italy', 'romania',\n",
       "       'australia', 'portugal', 'reunion', 'israel', 'netherlands',\n",
       "       'mexico', 'rwanda', 'chile', 'greece', 'lithuania', 'jersey',\n",
       "       'gibraltar', 'dominican republic', 'united arab emirates', 'china',\n",
       "       'singapore', 'nederland', 'sweden', 'puerto rico', 'luxembourg',\n",
       "       'gabon', 'pakistan', 'saudi arabia', 'french polynesia', 'egypt',\n",
       "       'croatia', 'palestine', 'haiti', 'taiwan', 'brazil', 'guatemala',\n",
       "       'saudi arabien', 'south africa', 'algeria', 'panama', 'colombia',\n",
       "       'costa rica', 'moldavia', 'czech republic', 'finland', 'niger',\n",
       "       'vietnam', 'martinique', 'qatar', 'morocco', 'saint lucia',\n",
       "       'india', 'lebanon', 'thailandland', 'new caledonia', 'iraq',\n",
       "       'andorra', 'malaysia', 'trinidad and tobago', 'jamaica', 'jordan',\n",
       "       'honduras', 'tunisia', 'new zealand', 'suecia', 'seychelles',\n",
       "       'saint martin', 'austria', 'ประเทศไทย (thailand)', 'ukraine',\n",
       "       'macedonia', 'kenya', 'guatelama', 'serbia', 'venezuela',\n",
       "       'barbados', 'philippines', 'aruba', 'libya', 'norway',\n",
       "       'el salvador', 'bahrain', 'myanmar', 'senegal', 'danmark',\n",
       "       'indonesia', 'afghanistan', 'denmark', 'marocco', 'south korea',\n",
       "       'argentina', 'japan', 'cuba', 'european union',\n",
       "       'saint pierre and miquelon', 'Sint Maarten', 'anguilla', 'bahamas',\n",
       "       'bulgaria', 'mauritius', 'ivory coast', 'vanuatu', 'bolivia',\n",
       "       'armenia', 'bangladesh', 'russia', 'french guiana', 'guyana',\n",
       "       'saint kitts and nevis', 'poland', 'nicaragua', 'turkey', 'angola',\n",
       "       'bermuda', 'grenada', 'togo', 'kazakhstan', 'guinea', 'congo',\n",
       "       'burkina faso', 'saint pierre et miquelon', 'sierra leone',\n",
       "       'union européenne', 'ghana', 'hungary', 'benin', 'georgia', 'laos',\n",
       "       'guernsey', 'cameroon', 'mayotte', 'curaçao', 'ecuador', 'iran',\n",
       "       'cambodia', 'sri lanka', 'belize', 'albania',\n",
       "       'france  polynésie française', '', 'syria', 'madagascar', 'monaco',\n",
       "       'europäische union', 'unión europea', 'moldova', 'mali', 'nigeria',\n",
       "       'الأردن', 'mauritania', 'ue', 'estonia', 'nepal', 'macao',\n",
       "       'botswana', 'malta', 'cyprus', 'bosnia and herzegovina',\n",
       "       'hashemite kingdom of jordan', 'fiji', 'djibouti', 'uruguay',\n",
       "       'zimbabwe', 'mongolia', 'iceland', 'chad', 'mozambique', 'somalia',\n",
       "       'dominica', 'montenegro', 'uzbekistan', 'kyrgyzstan', 'latvia',\n",
       "       'world', 'macau', 'burundi', 'zambia', 'surinam', 'slovakia',\n",
       "       'argelia', 'eu', 'san marino', 'paraguay', 'maldives', 'malaisie',\n",
       "       'belarus', 'overseas france', 'azerbaijan', 'wallis and futuna',\n",
       "       'unione europea', 'kiribati', 'kosovo', 'cape verde'], dtype=object)"
      ]
     },
     "execution_count": 102,
     "metadata": {},
     "output_type": "execute_result"
    }
   ],
   "source": [
    "df['countries'].unique()"
   ]
  },
  {
   "cell_type": "code",
   "execution_count": 103,
   "metadata": {},
   "outputs": [],
   "source": [
    "df['countries'] = df['countries'].str.lstrip()"
   ]
  },
  {
   "cell_type": "code",
   "execution_count": 115,
   "metadata": {},
   "outputs": [
    {
     "data": {
      "text/plain": [
       "Index(['code', 'url', 'product_name', 'generic_name', 'brands',\n",
       "       'categories_en', 'origins', 'manufacturing_places', 'labels',\n",
       "       'first_packaging_code_geo', 'purchase_places', 'stores', 'countries',\n",
       "       'allergens', 'traces_en', 'serving_size', 'serving_quantity',\n",
       "       'additives_tags', 'additives_en', 'nutriscore_score',\n",
       "       'nutriscore_grade', 'nova_group', 'pnns_groups_1', 'pnns_groups_2',\n",
       "       'states_en', 'main_category_en', 'image_url', 'image_nutrition_url'],\n",
       "      dtype='object')"
      ]
     },
     "execution_count": 115,
     "metadata": {},
     "output_type": "execute_result"
    }
   ],
   "source": [
    "df.columns"
   ]
  },
  {
   "cell_type": "markdown",
   "metadata": {},
   "source": [
    "Hasta aquí la limpieza principal del dataset. Existía un problema importante con la denominación de los países para posteriores filtrados de búsqueda y ha sido necesario solventarlo.\n",
    "\n",
    "Ahora pasaremos a seleccionar sólo la parte del dataset que vamos a enriquecer para el proyecto, que es la localizada en España."
   ]
  },
  {
   "cell_type": "code",
   "execution_count": 104,
   "metadata": {},
   "outputs": [],
   "source": [
    "españita = df[df['countries'] == 'spain']"
   ]
  },
  {
   "cell_type": "code",
   "execution_count": 106,
   "metadata": {},
   "outputs": [
    {
     "data": {
      "text/html": [
       "<div>\n",
       "<style scoped>\n",
       "    .dataframe tbody tr th:only-of-type {\n",
       "        vertical-align: middle;\n",
       "    }\n",
       "\n",
       "    .dataframe tbody tr th {\n",
       "        vertical-align: top;\n",
       "    }\n",
       "\n",
       "    .dataframe thead th {\n",
       "        text-align: right;\n",
       "    }\n",
       "</style>\n",
       "<table border=\"1\" class=\"dataframe\">\n",
       "  <thead>\n",
       "    <tr style=\"text-align: right;\">\n",
       "      <th></th>\n",
       "      <th>code</th>\n",
       "      <th>url</th>\n",
       "      <th>product_name</th>\n",
       "      <th>generic_name</th>\n",
       "      <th>brands</th>\n",
       "      <th>categories_en</th>\n",
       "      <th>origins</th>\n",
       "      <th>manufacturing_places</th>\n",
       "      <th>labels</th>\n",
       "      <th>first_packaging_code_geo</th>\n",
       "      <th>...</th>\n",
       "      <th>additives_en</th>\n",
       "      <th>nutriscore_score</th>\n",
       "      <th>nutriscore_grade</th>\n",
       "      <th>nova_group</th>\n",
       "      <th>pnns_groups_1</th>\n",
       "      <th>pnns_groups_2</th>\n",
       "      <th>states_en</th>\n",
       "      <th>main_category_en</th>\n",
       "      <th>image_url</th>\n",
       "      <th>image_nutrition_url</th>\n",
       "    </tr>\n",
       "  </thead>\n",
       "  <tbody>\n",
       "    <tr>\n",
       "      <th>2</th>\n",
       "      <td>000000000003327986</td>\n",
       "      <td>http://world-en.openfoodfacts.org/product/0000...</td>\n",
       "      <td>Filetes de pollo empanado</td>\n",
       "      <td>NaN</td>\n",
       "      <td>NaN</td>\n",
       "      <td>NaN</td>\n",
       "      <td>NaN</td>\n",
       "      <td>NaN</td>\n",
       "      <td>NaN</td>\n",
       "      <td>NaN</td>\n",
       "      <td>...</td>\n",
       "      <td>NaN</td>\n",
       "      <td>NaN</td>\n",
       "      <td>NaN</td>\n",
       "      <td>NaN</td>\n",
       "      <td>unknown</td>\n",
       "      <td>unknown</td>\n",
       "      <td>To be completed,Nutrition facts to be complete...</td>\n",
       "      <td>NaN</td>\n",
       "      <td>https://static.openfoodfacts.org/images/produc...</td>\n",
       "      <td>https://static.openfoodfacts.org/images/produc...</td>\n",
       "    </tr>\n",
       "    <tr>\n",
       "      <th>297</th>\n",
       "      <td>0000000105</td>\n",
       "      <td>http://world-en.openfoodfacts.org/product/0000...</td>\n",
       "      <td>Paleta gran reserva - Sierra nevada-</td>\n",
       "      <td>NaN</td>\n",
       "      <td>NaN</td>\n",
       "      <td>NaN</td>\n",
       "      <td>NaN</td>\n",
       "      <td>NaN</td>\n",
       "      <td>NaN</td>\n",
       "      <td>NaN</td>\n",
       "      <td>...</td>\n",
       "      <td>NaN</td>\n",
       "      <td>NaN</td>\n",
       "      <td>NaN</td>\n",
       "      <td>NaN</td>\n",
       "      <td>unknown</td>\n",
       "      <td>unknown</td>\n",
       "      <td>To be completed,Nutrition facts to be complete...</td>\n",
       "      <td>NaN</td>\n",
       "      <td>https://static.openfoodfacts.org/images/produc...</td>\n",
       "      <td>https://static.openfoodfacts.org/images/produc...</td>\n",
       "    </tr>\n",
       "    <tr>\n",
       "      <th>310</th>\n",
       "      <td>0000000234</td>\n",
       "      <td>http://world-en.openfoodfacts.org/product/0000...</td>\n",
       "      <td>NaN</td>\n",
       "      <td>NaN</td>\n",
       "      <td>Tartalia</td>\n",
       "      <td>NaN</td>\n",
       "      <td>NaN</td>\n",
       "      <td>NaN</td>\n",
       "      <td>NaN</td>\n",
       "      <td>NaN</td>\n",
       "      <td>...</td>\n",
       "      <td>NaN</td>\n",
       "      <td>NaN</td>\n",
       "      <td>NaN</td>\n",
       "      <td>NaN</td>\n",
       "      <td>unknown</td>\n",
       "      <td>unknown</td>\n",
       "      <td>To be completed,Nutrition facts to be complete...</td>\n",
       "      <td>NaN</td>\n",
       "      <td>https://static.openfoodfacts.org/images/produc...</td>\n",
       "      <td>NaN</td>\n",
       "    </tr>\n",
       "  </tbody>\n",
       "</table>\n",
       "<p>3 rows × 28 columns</p>\n",
       "</div>"
      ],
      "text/plain": [
       "                   code                                                url  \\\n",
       "2    000000000003327986  http://world-en.openfoodfacts.org/product/0000...   \n",
       "297          0000000105  http://world-en.openfoodfacts.org/product/0000...   \n",
       "310          0000000234  http://world-en.openfoodfacts.org/product/0000...   \n",
       "\n",
       "                             product_name generic_name    brands  \\\n",
       "2               Filetes de pollo empanado          NaN       NaN   \n",
       "297  Paleta gran reserva - Sierra nevada-          NaN       NaN   \n",
       "310                                   NaN          NaN  Tartalia   \n",
       "\n",
       "    categories_en origins manufacturing_places labels  \\\n",
       "2             NaN     NaN                  NaN    NaN   \n",
       "297           NaN     NaN                  NaN    NaN   \n",
       "310           NaN     NaN                  NaN    NaN   \n",
       "\n",
       "    first_packaging_code_geo  ... additives_en nutriscore_score  \\\n",
       "2                        NaN  ...          NaN              NaN   \n",
       "297                      NaN  ...          NaN              NaN   \n",
       "310                      NaN  ...          NaN              NaN   \n",
       "\n",
       "    nutriscore_grade nova_group pnns_groups_1 pnns_groups_2  \\\n",
       "2                NaN        NaN       unknown       unknown   \n",
       "297              NaN        NaN       unknown       unknown   \n",
       "310              NaN        NaN       unknown       unknown   \n",
       "\n",
       "                                             states_en main_category_en  \\\n",
       "2    To be completed,Nutrition facts to be complete...              NaN   \n",
       "297  To be completed,Nutrition facts to be complete...              NaN   \n",
       "310  To be completed,Nutrition facts to be complete...              NaN   \n",
       "\n",
       "                                             image_url  \\\n",
       "2    https://static.openfoodfacts.org/images/produc...   \n",
       "297  https://static.openfoodfacts.org/images/produc...   \n",
       "310  https://static.openfoodfacts.org/images/produc...   \n",
       "\n",
       "                                   image_nutrition_url  \n",
       "2    https://static.openfoodfacts.org/images/produc...  \n",
       "297  https://static.openfoodfacts.org/images/produc...  \n",
       "310                                                NaN  \n",
       "\n",
       "[3 rows x 28 columns]"
      ]
     },
     "execution_count": 106,
     "metadata": {},
     "output_type": "execute_result"
    }
   ],
   "source": [
    "españita.head(3)"
   ]
  },
  {
   "cell_type": "code",
   "execution_count": 109,
   "metadata": {},
   "outputs": [],
   "source": [
    "españita.to_csv('/Users/Natalio/Desktop/Cibeles/Ironhack/Proyecto_Final/Recursos/spain_openfoodfacts_products.csv', sep='\\t', index=False)"
   ]
  },
  {
   "cell_type": "code",
   "execution_count": 112,
   "metadata": {},
   "outputs": [],
   "source": [
    "filter_qc = df[df['code'] == '5449000000996']"
   ]
  },
  {
   "cell_type": "code",
   "execution_count": 113,
   "metadata": {},
   "outputs": [
    {
     "data": {
      "text/html": [
       "<div>\n",
       "<style scoped>\n",
       "    .dataframe tbody tr th:only-of-type {\n",
       "        vertical-align: middle;\n",
       "    }\n",
       "\n",
       "    .dataframe tbody tr th {\n",
       "        vertical-align: top;\n",
       "    }\n",
       "\n",
       "    .dataframe thead th {\n",
       "        text-align: right;\n",
       "    }\n",
       "</style>\n",
       "<table border=\"1\" class=\"dataframe\">\n",
       "  <thead>\n",
       "    <tr style=\"text-align: right;\">\n",
       "      <th></th>\n",
       "      <th>code</th>\n",
       "      <th>url</th>\n",
       "      <th>product_name</th>\n",
       "      <th>generic_name</th>\n",
       "      <th>brands</th>\n",
       "      <th>categories_en</th>\n",
       "      <th>origins</th>\n",
       "      <th>manufacturing_places</th>\n",
       "      <th>labels</th>\n",
       "      <th>first_packaging_code_geo</th>\n",
       "      <th>...</th>\n",
       "      <th>additives_en</th>\n",
       "      <th>nutriscore_score</th>\n",
       "      <th>nutriscore_grade</th>\n",
       "      <th>nova_group</th>\n",
       "      <th>pnns_groups_1</th>\n",
       "      <th>pnns_groups_2</th>\n",
       "      <th>states_en</th>\n",
       "      <th>main_category_en</th>\n",
       "      <th>image_url</th>\n",
       "      <th>image_nutrition_url</th>\n",
       "    </tr>\n",
       "  </thead>\n",
       "  <tbody>\n",
       "    <tr>\n",
       "      <th>0</th>\n",
       "      <td>0000000000017</td>\n",
       "      <td>http://world-en.openfoodfacts.org/product/0000...</td>\n",
       "      <td>Vitória crackers</td>\n",
       "      <td>NaN</td>\n",
       "      <td>NaN</td>\n",
       "      <td>NaN</td>\n",
       "      <td>NaN</td>\n",
       "      <td>NaN</td>\n",
       "      <td>NaN</td>\n",
       "      <td>NaN</td>\n",
       "      <td>...</td>\n",
       "      <td>NaN</td>\n",
       "      <td>NaN</td>\n",
       "      <td>NaN</td>\n",
       "      <td>NaN</td>\n",
       "      <td>unknown</td>\n",
       "      <td>unknown</td>\n",
       "      <td>To be completed,Nutrition facts completed,Ingr...</td>\n",
       "      <td>NaN</td>\n",
       "      <td>https://static.openfoodfacts.org/images/produc...</td>\n",
       "      <td>NaN</td>\n",
       "    </tr>\n",
       "    <tr>\n",
       "      <th>1</th>\n",
       "      <td>0000000000031</td>\n",
       "      <td>http://world-en.openfoodfacts.org/product/0000...</td>\n",
       "      <td>Cacao</td>\n",
       "      <td>NaN</td>\n",
       "      <td>NaN</td>\n",
       "      <td>NaN</td>\n",
       "      <td>NaN</td>\n",
       "      <td>NaN</td>\n",
       "      <td>NaN</td>\n",
       "      <td>NaN</td>\n",
       "      <td>...</td>\n",
       "      <td>NaN</td>\n",
       "      <td>NaN</td>\n",
       "      <td>NaN</td>\n",
       "      <td>NaN</td>\n",
       "      <td>unknown</td>\n",
       "      <td>unknown</td>\n",
       "      <td>To be completed,Nutrition facts to be complete...</td>\n",
       "      <td>NaN</td>\n",
       "      <td>https://static.openfoodfacts.org/images/produc...</td>\n",
       "      <td>NaN</td>\n",
       "    </tr>\n",
       "    <tr>\n",
       "      <th>2</th>\n",
       "      <td>000000000003327986</td>\n",
       "      <td>http://world-en.openfoodfacts.org/product/0000...</td>\n",
       "      <td>Filetes de pollo empanado</td>\n",
       "      <td>NaN</td>\n",
       "      <td>NaN</td>\n",
       "      <td>NaN</td>\n",
       "      <td>NaN</td>\n",
       "      <td>NaN</td>\n",
       "      <td>NaN</td>\n",
       "      <td>NaN</td>\n",
       "      <td>...</td>\n",
       "      <td>NaN</td>\n",
       "      <td>NaN</td>\n",
       "      <td>NaN</td>\n",
       "      <td>NaN</td>\n",
       "      <td>unknown</td>\n",
       "      <td>unknown</td>\n",
       "      <td>To be completed,Nutrition facts to be complete...</td>\n",
       "      <td>NaN</td>\n",
       "      <td>https://static.openfoodfacts.org/images/produc...</td>\n",
       "      <td>https://static.openfoodfacts.org/images/produc...</td>\n",
       "    </tr>\n",
       "    <tr>\n",
       "      <th>3</th>\n",
       "      <td>0000000000100</td>\n",
       "      <td>http://world-en.openfoodfacts.org/product/0000...</td>\n",
       "      <td>moutarde au moût de raisin</td>\n",
       "      <td>NaN</td>\n",
       "      <td>courte paille</td>\n",
       "      <td>Groceries,Condiments,Sauces,Mustards</td>\n",
       "      <td>NaN</td>\n",
       "      <td>NaN</td>\n",
       "      <td>Delois france</td>\n",
       "      <td>NaN</td>\n",
       "      <td>...</td>\n",
       "      <td>NaN</td>\n",
       "      <td>18.0</td>\n",
       "      <td>d</td>\n",
       "      <td>NaN</td>\n",
       "      <td>Fat and sauces</td>\n",
       "      <td>Dressings and sauces</td>\n",
       "      <td>To be completed,Nutrition facts completed,Ingr...</td>\n",
       "      <td>Groceries</td>\n",
       "      <td>https://static.openfoodfacts.org/images/produc...</td>\n",
       "      <td>NaN</td>\n",
       "    </tr>\n",
       "    <tr>\n",
       "      <th>4</th>\n",
       "      <td>00000000001111111111</td>\n",
       "      <td>http://world-en.openfoodfacts.org/product/0000...</td>\n",
       "      <td>Sfiudwx</td>\n",
       "      <td>NaN</td>\n",
       "      <td>Watt</td>\n",
       "      <td>fr:xsf</td>\n",
       "      <td>NaN</td>\n",
       "      <td>NaN</td>\n",
       "      <td>NaN</td>\n",
       "      <td>NaN</td>\n",
       "      <td>...</td>\n",
       "      <td>NaN</td>\n",
       "      <td>NaN</td>\n",
       "      <td>NaN</td>\n",
       "      <td>NaN</td>\n",
       "      <td>unknown</td>\n",
       "      <td>unknown</td>\n",
       "      <td>To be completed,Nutrition facts to be complete...</td>\n",
       "      <td>fr:xsf</td>\n",
       "      <td>NaN</td>\n",
       "      <td>NaN</td>\n",
       "    </tr>\n",
       "    <tr>\n",
       "      <th>...</th>\n",
       "      <td>...</td>\n",
       "      <td>...</td>\n",
       "      <td>...</td>\n",
       "      <td>...</td>\n",
       "      <td>...</td>\n",
       "      <td>...</td>\n",
       "      <td>...</td>\n",
       "      <td>...</td>\n",
       "      <td>...</td>\n",
       "      <td>...</td>\n",
       "      <td>...</td>\n",
       "      <td>...</td>\n",
       "      <td>...</td>\n",
       "      <td>...</td>\n",
       "      <td>...</td>\n",
       "      <td>...</td>\n",
       "      <td>...</td>\n",
       "      <td>...</td>\n",
       "      <td>...</td>\n",
       "      <td>...</td>\n",
       "      <td>...</td>\n",
       "    </tr>\n",
       "    <tr>\n",
       "      <th>656517</th>\n",
       "      <td>3700910203634</td>\n",
       "      <td>http://world-en.openfoodfacts.org/product/3700...</td>\n",
       "      <td>Quetsche mirabelle &amp; cannelle</td>\n",
       "      <td>NaN</td>\n",
       "      <td>La Chambre Aux Confitures</td>\n",
       "      <td>NaN</td>\n",
       "      <td>NaN</td>\n",
       "      <td>NaN</td>\n",
       "      <td>NaN</td>\n",
       "      <td>NaN</td>\n",
       "      <td>...</td>\n",
       "      <td>E440 - Pectins,E440i - Pectin</td>\n",
       "      <td>NaN</td>\n",
       "      <td>NaN</td>\n",
       "      <td>4.0</td>\n",
       "      <td>unknown</td>\n",
       "      <td>unknown</td>\n",
       "      <td>To be completed,Nutrition facts completed,Ingr...</td>\n",
       "      <td>NaN</td>\n",
       "      <td>https://static.openfoodfacts.org/images/produc...</td>\n",
       "      <td>NaN</td>\n",
       "    </tr>\n",
       "    <tr>\n",
       "      <th>656518</th>\n",
       "      <td>3700910203641</td>\n",
       "      <td>http://world-en.openfoodfacts.org/product/3700...</td>\n",
       "      <td>Peche de vigne</td>\n",
       "      <td>NaN</td>\n",
       "      <td>NaN</td>\n",
       "      <td>NaN</td>\n",
       "      <td>NaN</td>\n",
       "      <td>NaN</td>\n",
       "      <td>NaN</td>\n",
       "      <td>NaN</td>\n",
       "      <td>...</td>\n",
       "      <td>NaN</td>\n",
       "      <td>NaN</td>\n",
       "      <td>NaN</td>\n",
       "      <td>NaN</td>\n",
       "      <td>unknown</td>\n",
       "      <td>unknown</td>\n",
       "      <td>To be completed,Nutrition facts to be complete...</td>\n",
       "      <td>NaN</td>\n",
       "      <td>https://static.openfoodfacts.org/images/produc...</td>\n",
       "      <td>NaN</td>\n",
       "    </tr>\n",
       "    <tr>\n",
       "      <th>656519</th>\n",
       "      <td>3700910203757</td>\n",
       "      <td>http://world-en.openfoodfacts.org/product/3700...</td>\n",
       "      <td>Confiture abricot passion groseille</td>\n",
       "      <td>NaN</td>\n",
       "      <td>La Chambre Aux Confitures</td>\n",
       "      <td>NaN</td>\n",
       "      <td>NaN</td>\n",
       "      <td>NaN</td>\n",
       "      <td>NaN</td>\n",
       "      <td>NaN</td>\n",
       "      <td>...</td>\n",
       "      <td>NaN</td>\n",
       "      <td>NaN</td>\n",
       "      <td>NaN</td>\n",
       "      <td>4.0</td>\n",
       "      <td>unknown</td>\n",
       "      <td>unknown</td>\n",
       "      <td>To be completed,Nutrition facts completed,Ingr...</td>\n",
       "      <td>NaN</td>\n",
       "      <td>https://static.openfoodfacts.org/images/produc...</td>\n",
       "      <td>https://static.openfoodfacts.org/images/produc...</td>\n",
       "    </tr>\n",
       "    <tr>\n",
       "      <th>656520</th>\n",
       "      <td>3700910203870</td>\n",
       "      <td>http://world-en.openfoodfacts.org/product/3700...</td>\n",
       "      <td>NaN</td>\n",
       "      <td>NaN</td>\n",
       "      <td>La Chambre aux confitures</td>\n",
       "      <td>Plant-based foods and beverages,Plant-based fo...</td>\n",
       "      <td>NaN</td>\n",
       "      <td>NaN</td>\n",
       "      <td>NaN</td>\n",
       "      <td>NaN</td>\n",
       "      <td>...</td>\n",
       "      <td>NaN</td>\n",
       "      <td>13.0</td>\n",
       "      <td>d</td>\n",
       "      <td>NaN</td>\n",
       "      <td>unknown</td>\n",
       "      <td>unknown</td>\n",
       "      <td>To be completed,Nutrition facts completed,Ingr...</td>\n",
       "      <td>Plant-based foods and beverages</td>\n",
       "      <td>https://static.openfoodfacts.org/images/produc...</td>\n",
       "      <td>NaN</td>\n",
       "    </tr>\n",
       "    <tr>\n",
       "      <th>656521</th>\n",
       "      <td>3700910203894</td>\n",
       "      <td>http://world-en.openfoodfacts.org/product/3700...</td>\n",
       "      <td>Confiture clémentine rhum et vanille</td>\n",
       "      <td>NaN</td>\n",
       "      <td>La Chambre aux Confitures</td>\n",
       "      <td>Plant-based foods and beverages,Plant-based fo...</td>\n",
       "      <td>NaN</td>\n",
       "      <td>NaN</td>\n",
       "      <td>NaN</td>\n",
       "      <td>NaN</td>\n",
       "      <td>...</td>\n",
       "      <td>NaN</td>\n",
       "      <td>12.0</td>\n",
       "      <td>d</td>\n",
       "      <td>NaN</td>\n",
       "      <td>Fruits and vegetables</td>\n",
       "      <td>Fruits</td>\n",
       "      <td>To be completed,Nutrition facts completed,Ingr...</td>\n",
       "      <td>Plant-based foods and beverages</td>\n",
       "      <td>https://static.openfoodfacts.org/images/produc...</td>\n",
       "      <td>https://static.openfoodfacts.org/images/produc...</td>\n",
       "    </tr>\n",
       "  </tbody>\n",
       "</table>\n",
       "<p>656522 rows × 28 columns</p>\n",
       "</div>"
      ],
      "text/plain": [
       "                        code  \\\n",
       "0              0000000000017   \n",
       "1              0000000000031   \n",
       "2         000000000003327986   \n",
       "3              0000000000100   \n",
       "4       00000000001111111111   \n",
       "...                      ...   \n",
       "656517         3700910203634   \n",
       "656518         3700910203641   \n",
       "656519         3700910203757   \n",
       "656520         3700910203870   \n",
       "656521         3700910203894   \n",
       "\n",
       "                                                      url  \\\n",
       "0       http://world-en.openfoodfacts.org/product/0000...   \n",
       "1       http://world-en.openfoodfacts.org/product/0000...   \n",
       "2       http://world-en.openfoodfacts.org/product/0000...   \n",
       "3       http://world-en.openfoodfacts.org/product/0000...   \n",
       "4       http://world-en.openfoodfacts.org/product/0000...   \n",
       "...                                                   ...   \n",
       "656517  http://world-en.openfoodfacts.org/product/3700...   \n",
       "656518  http://world-en.openfoodfacts.org/product/3700...   \n",
       "656519  http://world-en.openfoodfacts.org/product/3700...   \n",
       "656520  http://world-en.openfoodfacts.org/product/3700...   \n",
       "656521  http://world-en.openfoodfacts.org/product/3700...   \n",
       "\n",
       "                                product_name generic_name  \\\n",
       "0                           Vitória crackers          NaN   \n",
       "1                                      Cacao          NaN   \n",
       "2                  Filetes de pollo empanado          NaN   \n",
       "3                moutarde au moût de raisin           NaN   \n",
       "4                                    Sfiudwx          NaN   \n",
       "...                                      ...          ...   \n",
       "656517         Quetsche mirabelle & cannelle          NaN   \n",
       "656518                        Peche de vigne          NaN   \n",
       "656519   Confiture abricot passion groseille          NaN   \n",
       "656520                                   NaN          NaN   \n",
       "656521  Confiture clémentine rhum et vanille          NaN   \n",
       "\n",
       "                           brands  \\\n",
       "0                             NaN   \n",
       "1                             NaN   \n",
       "2                             NaN   \n",
       "3                   courte paille   \n",
       "4                            Watt   \n",
       "...                           ...   \n",
       "656517  La Chambre Aux Confitures   \n",
       "656518                        NaN   \n",
       "656519  La Chambre Aux Confitures   \n",
       "656520  La Chambre aux confitures   \n",
       "656521  La Chambre aux Confitures   \n",
       "\n",
       "                                            categories_en origins  \\\n",
       "0                                                     NaN     NaN   \n",
       "1                                                     NaN     NaN   \n",
       "2                                                     NaN     NaN   \n",
       "3                    Groceries,Condiments,Sauces,Mustards     NaN   \n",
       "4                                                  fr:xsf     NaN   \n",
       "...                                                   ...     ...   \n",
       "656517                                                NaN     NaN   \n",
       "656518                                                NaN     NaN   \n",
       "656519                                                NaN     NaN   \n",
       "656520  Plant-based foods and beverages,Plant-based fo...     NaN   \n",
       "656521  Plant-based foods and beverages,Plant-based fo...     NaN   \n",
       "\n",
       "       manufacturing_places         labels first_packaging_code_geo  ...  \\\n",
       "0                       NaN            NaN                      NaN  ...   \n",
       "1                       NaN            NaN                      NaN  ...   \n",
       "2                       NaN            NaN                      NaN  ...   \n",
       "3                       NaN  Delois france                      NaN  ...   \n",
       "4                       NaN            NaN                      NaN  ...   \n",
       "...                     ...            ...                      ...  ...   \n",
       "656517                  NaN            NaN                      NaN  ...   \n",
       "656518                  NaN            NaN                      NaN  ...   \n",
       "656519                  NaN            NaN                      NaN  ...   \n",
       "656520                  NaN            NaN                      NaN  ...   \n",
       "656521                  NaN            NaN                      NaN  ...   \n",
       "\n",
       "                         additives_en nutriscore_score nutriscore_grade  \\\n",
       "0                                 NaN              NaN              NaN   \n",
       "1                                 NaN              NaN              NaN   \n",
       "2                                 NaN              NaN              NaN   \n",
       "3                                 NaN             18.0                d   \n",
       "4                                 NaN              NaN              NaN   \n",
       "...                               ...              ...              ...   \n",
       "656517  E440 - Pectins,E440i - Pectin              NaN              NaN   \n",
       "656518                            NaN              NaN              NaN   \n",
       "656519                            NaN              NaN              NaN   \n",
       "656520                            NaN             13.0                d   \n",
       "656521                            NaN             12.0                d   \n",
       "\n",
       "       nova_group          pnns_groups_1         pnns_groups_2  \\\n",
       "0             NaN                unknown               unknown   \n",
       "1             NaN                unknown               unknown   \n",
       "2             NaN                unknown               unknown   \n",
       "3             NaN         Fat and sauces  Dressings and sauces   \n",
       "4             NaN                unknown               unknown   \n",
       "...           ...                    ...                   ...   \n",
       "656517        4.0                unknown               unknown   \n",
       "656518        NaN                unknown               unknown   \n",
       "656519        4.0                unknown               unknown   \n",
       "656520        NaN                unknown               unknown   \n",
       "656521        NaN  Fruits and vegetables                Fruits   \n",
       "\n",
       "                                                states_en  \\\n",
       "0       To be completed,Nutrition facts completed,Ingr...   \n",
       "1       To be completed,Nutrition facts to be complete...   \n",
       "2       To be completed,Nutrition facts to be complete...   \n",
       "3       To be completed,Nutrition facts completed,Ingr...   \n",
       "4       To be completed,Nutrition facts to be complete...   \n",
       "...                                                   ...   \n",
       "656517  To be completed,Nutrition facts completed,Ingr...   \n",
       "656518  To be completed,Nutrition facts to be complete...   \n",
       "656519  To be completed,Nutrition facts completed,Ingr...   \n",
       "656520  To be completed,Nutrition facts completed,Ingr...   \n",
       "656521  To be completed,Nutrition facts completed,Ingr...   \n",
       "\n",
       "                       main_category_en  \\\n",
       "0                                   NaN   \n",
       "1                                   NaN   \n",
       "2                                   NaN   \n",
       "3                             Groceries   \n",
       "4                                fr:xsf   \n",
       "...                                 ...   \n",
       "656517                              NaN   \n",
       "656518                              NaN   \n",
       "656519                              NaN   \n",
       "656520  Plant-based foods and beverages   \n",
       "656521  Plant-based foods and beverages   \n",
       "\n",
       "                                                image_url  \\\n",
       "0       https://static.openfoodfacts.org/images/produc...   \n",
       "1       https://static.openfoodfacts.org/images/produc...   \n",
       "2       https://static.openfoodfacts.org/images/produc...   \n",
       "3       https://static.openfoodfacts.org/images/produc...   \n",
       "4                                                     NaN   \n",
       "...                                                   ...   \n",
       "656517  https://static.openfoodfacts.org/images/produc...   \n",
       "656518  https://static.openfoodfacts.org/images/produc...   \n",
       "656519  https://static.openfoodfacts.org/images/produc...   \n",
       "656520  https://static.openfoodfacts.org/images/produc...   \n",
       "656521  https://static.openfoodfacts.org/images/produc...   \n",
       "\n",
       "                                      image_nutrition_url  \n",
       "0                                                     NaN  \n",
       "1                                                     NaN  \n",
       "2       https://static.openfoodfacts.org/images/produc...  \n",
       "3                                                     NaN  \n",
       "4                                                     NaN  \n",
       "...                                                   ...  \n",
       "656517                                                NaN  \n",
       "656518                                                NaN  \n",
       "656519  https://static.openfoodfacts.org/images/produc...  \n",
       "656520                                                NaN  \n",
       "656521  https://static.openfoodfacts.org/images/produc...  \n",
       "\n",
       "[656522 rows x 28 columns]"
      ]
     },
     "execution_count": 113,
     "metadata": {},
     "output_type": "execute_result"
    }
   ],
   "source": [
    "df"
   ]
  },
  {
   "cell_type": "code",
   "execution_count": null,
   "metadata": {},
   "outputs": [],
   "source": []
  }
 ],
 "metadata": {
  "kernelspec": {
   "display_name": "Python [conda env:pfironhack_env] *",
   "language": "python",
   "name": "conda-env-pfironhack_env-py"
  },
  "language_info": {
   "codemirror_mode": {
    "name": "ipython",
    "version": 3
   },
   "file_extension": ".py",
   "mimetype": "text/x-python",
   "name": "python",
   "nbconvert_exporter": "python",
   "pygments_lexer": "ipython3",
   "version": "3.7.7"
  }
 },
 "nbformat": 4,
 "nbformat_minor": 4
}
